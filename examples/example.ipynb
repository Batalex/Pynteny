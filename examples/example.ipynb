{
 "cells": [
  {
   "cell_type": "markdown",
   "metadata": {},
   "source": [
    "![logo](https://user-images.githubusercontent.com/21340147/192824830-dcbe8d09-2b10-431d-bd9a-b4624192dcc9.png)\n",
    "<br/>\n",
    "<br/>\n",
    "\n",
    "In this Notebook, we will exemplirize the typical usage of Pynteny through the command-line interface."
   ]
  },
  {
   "cell_type": "code",
   "execution_count": 7,
   "metadata": {},
   "outputs": [],
   "source": [
    "from pathlib import Path\n",
    "from IPython.display import display, HTML\n",
    "import pandas as pd\n",
    "from pynteny.src.utils import CommandArgs\n",
    "from pynteny.src.subcommands import synteny_search, download_hmms, build_database"
   ]
  },
  {
   "cell_type": "markdown",
   "metadata": {},
   "source": [
    "## Download PGAP profile HMM database\n",
    "\n",
    "Firt, let's download [PGAP](https://academic.oup.com/nar/article/49/D1/D1020/6018440)'s profile HMM database from the NCBI webpage. To this end, we will use pynteny subcommand `download`, which will unzip and store files in the specified output directory. The metadata file will be parsed and filtered to remove HMM entries which are not available in the downloaded database (this is to avoid possible downstream errors)."
   ]
  },
  {
   "cell_type": "code",
   "execution_count": 22,
   "metadata": {},
   "outputs": [],
   "source": [
    "%%bash\n",
    "\n",
    "pynteny download --outdir data/hmms --unpack"
   ]
  },
  {
   "cell_type": "markdown",
   "metadata": {},
   "source": [
    "## Build peptide sequence database\n",
    "\n",
    "For this example we are going to use the [MAR reference](https://mmp2.sfb.uit.no/marref/) database (currently version _v7_), a collection of 970 fully sequenced prokaryotic genomes from the marine environment. Specifically, we will use the assembly data file containing the assembled nucleotide sequences.\n",
    "\n",
    "Our final goal is to build a peptide sequence database in a single FASTA file where each record corresponds to a inferred ORF, which will display the positional information (i.e. ORF number within the parent contig as well as the DNA strand). To this end, we will run pynteny's subcommand `build`, which will take care of:\n",
    "\n",
    "- Predict and translate ORFs with [prodigal]()\n",
    "- Label each ORF with a unique identifier and add positional metadata (with respect to the parent contig)\n",
    "\n",
    "To follow this example, you should have previously downloaded the assembly data file, `assembly.fa`, from [MAR ref](https://mmp2.sfb.uit.no/marref/). Here is how the first lines of `assembly.fa` look like, each record corresponds to a single, assembled genome:"
   ]
  },
  {
   "cell_type": "code",
   "execution_count": 3,
   "metadata": {},
   "outputs": [
    {
     "name": "stdout",
     "output_type": "stream",
     "text": [
      ">CP000435.1 Synechococcus sp. CC9311, complete genome\n",
      "ACATCGTTTCCCCTGTTTCCACAAGACCTACTACGGCTGTTTTCGTAGTTCTTTTAAGAGAATAAAAACAGCCCTAAAGC\n",
      "CGGGGAACACGAAAAAAACGTGAAACCATTGCGCTTCTCCCTTGCCTGTGAAATTGTGAGGAGAGATTTGTTCACGCCGT\n",
      "TGACTCGGACCTCATGAAATTGGTCTGTTCCCAGGCAGAACTCAACGCAGCTCTGCAGTTGGTCAGTCGGGCTGTCGCCT\n"
     ]
    }
   ],
   "source": [
    "%%bash \n",
    "\n",
    "head -n 4 /home/robaina/Databases/MAR_database/assembly.fa"
   ]
  },
  {
   "cell_type": "markdown",
   "metadata": {},
   "source": [
    "Let's run `pynteny build` to generated a peptide database labelled with positional information. The labels are organized following the structure:\n",
    "\n",
    "```\n",
    "<genome ID>__<contig ID>_<gene position>_<locus start>_<locus end>_<strand>\n",
    "```\n",
    "\n",
    "where gene position, locus start and locus end are taken respect to the contig."
   ]
  },
  {
   "cell_type": "code",
   "execution_count": 18,
   "metadata": {},
   "outputs": [],
   "source": [
    "%%bash\n",
    "\n",
    "pynteny build \\\n",
    "    --data data/assembly.fa\\\n",
    "    --outfile data/labelled_marref.fasta"
   ]
  },
  {
   "cell_type": "markdown",
   "metadata": {},
   "source": [
    "Here are some position-labelled predicted peptides corresponding to the assembled genome displayed above (`CP000435.1`):"
   ]
  },
  {
   "cell_type": "code",
   "execution_count": 5,
   "metadata": {},
   "outputs": [
    {
     "name": "stdout",
     "output_type": "stream",
     "text": [
      ">CP000435.1_1__CP000435.1_1_174_1331_pos\n",
      "MKLVCSQAELNAALQLVSRAVASRPTHPVLANVLLTADAGTDRLSLTGFDLNLGIQTSLAASVDTSGAVTLPARLLGEIVSKLSSDSPVSLSSDAGADQVELTSSSGSYQMRGMPADDFPELPLVENGTALRVDPASLLKALRATLFASSGDEAKQLLTGVHLRFNQKRLEAASTDGHRLAMLTVEDALQAEISAEESEPDELAVTLPARSLREVERLMASWKGGDPVSLFCERGQVVVLAADQMVTSRTLEGTYPNYRQLIPDGFSRTIDLDRRAFISALERIAVLADQHNNVVRIATEPATGLVQISADAQDVGSGSESLPAEINGDAVQIAFNARYVLDGLKAMDCDRVRLSCNAPTTPAILTPANDDPGLTYLVMPVQIRT*\n",
      ">CP000435.1_2__CP000435.1_2_1435_2148_pos\n",
      "MAWMHPPVHRLLGWVSRPSALRTSRDVWRLDQCRGFDDQQVFVKGAPAEADQITLDRLPTLLDADLLNADGERVGIIADLAFLPASGQISHYLVARSDPRLPGTSRWRLLPDRIVDQQPGLVSSAIHELDDLPLARASVRQDFLQRSRHWREQLQQFGDRAGERLEGWLEEPPWDEPPAVSDVASSYSSTAAPTVDPLDDWDDGDWTDAPRVERGRSVRNDPTDRNDWPDHEEDPWV*\n",
      ">CP000435.1_3__CP000435.1_3_2185_4518_pos\n",
      "MTQSSHAVAAFDLGAALRQEGLTETDYSEIQRRLGRDPNRAELGMFGVMWSEHCCYRNSRPLLSGFPTEGPRILVGPGENAGVVDLGEGHHLAFKVESHNHPSAVEPFQGAATGVGGILRDIFTMGARPIALLNALRFGPLDEPATRGLVEGVVAGIAHYGNCVGVPTVGGEVAFDPSYRGNPLVNAMALGLMETDEIVRSGAAGVGNPVVYVGSTTGRDGMGGASFASAELSADSLDDRPAVQVGDPFLEKGLIEACLEAFQSGDVVAAQDMGAAGLTCSCSEMAAKGDVGVELDLDRVPAREKGMTAYEFLLSESQERMLFVVRAGREEQLMQRFRRWGLQAAVVGRVLEEKVVRVLQHGAVAAEVPARALAEDTPINKHELLSEPPDDIQTHWTWRESDLPSPAIDRDWNADLLRLLDDPTIASKRWIYRQYDQQVLANTVIRAGGADAAVVRLRPQQGDASLQMSQRGVAATLDCPNRWVALDPERGAIAAVAEAARNLSCVGAQPIAVTDNLNFPSPETSKGYWQLAMACRGLSHACRSMGTPVTGGNVSLYNETRADDGSLQPIHPTPVVGMVGLVEDLDRSGGLAWRQPGDFVVLLGVSTDEEGNESVGLAGSSYQGAVHGLLTGRPPSVDLELEGQVQALVRQAFAQGVLASAHDSSDGGLAVALAESTLASGLGVDLNLPHRSARLDRVLFAEGGARIVVSVRAEQRSAWHSLVASQEHRSVPVTEIGTVADHGCFRLAVEKHPVIDLAVETLREQYEQAVPRRLGAV*\n"
     ]
    }
   ],
   "source": [
    "%%bash\n",
    "\n",
    "grep -A 1 \"CP000435.1\" /home/robaina/Databases/MAR_database/marref_prodigal_longlabels_mmp.faa | head -n 6"
   ]
  },
  {
   "cell_type": "markdown",
   "metadata": {},
   "source": [
    "## Search synteny structure in MAR ref\n",
    "\n",
    "Finally, we are going to use pynteny's `search` subcommand to search for a specific syntenic block within the previously built peptide database. Specifically, we are interested in the [_sox_ operon](https://link.springer.com/article/10.1007/s00253-016-8026-2#Fig1):\n",
    "\n",
    "```\n",
    ">soxX 0 >soxY 0 >soxZ 0 >soxA 0 >soxB 0 >soxC\n",
    "```"
   ]
  },
  {
   "cell_type": "code",
   "execution_count": 10,
   "metadata": {},
   "outputs": [
    {
     "name": "stdout",
     "output_type": "stream",
     "text": [
      "\n",
      "    ____              __                  \n",
      "   / __ \\__  ______  / /____  ____  __  __\n",
      "  / /_/ / / / / __ \\/ __/ _ \\/ __ \\/ / / /\n",
      " / ____/ /_/ / / / / /_/  __/ / / / /_/ / \n",
      "/_/    \\__, /_/ /_/\\__/\\___/_/ /_/\\__, /  \n",
      "      /____/                     /____/   \n",
      "\n",
      "Synteny-based Hmmer searches made easy, v0.0.2\n",
      "Semidán Robaina Estévez (srobaina@ull.edu.es), 2022\n",
      " \n",
      "\n",
      "2022-09-29 15:19:30,733 | INFO: Translated \n",
      " \">soxX 0 >soxY 0 >soxZ 0 >soxA 0 >soxB 0 >soxC\" \n",
      " to \n",
      " \">TIGR04485.1 0 >TIGR04488.1 0 >TIGR04490.1 0 >(TIGR01372.1|TIGR04484.1) 0 >(TIGR01373.1|TIGR04486.1) 0 >TIGR04555.1\" \n",
      " according to provided HMM database metadata\n"
     ]
    }
   ],
   "source": [
    "%%bash \n",
    "\n",
    "pynteny parse \\\n",
    "    --synteny_struc \">soxX 0 >soxY 0 >soxZ 0 >soxA 0 >soxB 0 >soxC\" \\\n",
    "    --hmm_meta ../hmm_data/hmm_PGAP_no_missing.tsv"
   ]
  },
  {
   "cell_type": "markdown",
   "metadata": {},
   "source": [
    "We can see that..."
   ]
  },
  {
   "cell_type": "code",
   "execution_count": 6,
   "metadata": {},
   "outputs": [
    {
     "name": "stdout",
     "output_type": "stream",
     "text": [
      "\n",
      "    ____              __                  \n",
      "   / __ \\__  ______  / /____  ____  __  __\n",
      "  / /_/ / / / / __ \\/ __/ _ \\/ __ \\/ / / /\n",
      " / ____/ /_/ / / / / /_/  __/ / / / /_/ / \n",
      "/_/    \\__, /_/ /_/\\__/\\___/_/ /_/\\__, /  \n",
      "      /____/                     /____/   \n",
      "\n",
      "Synteny-based Hmmer searches made easy, v0.0.2\n",
      "Semidán Robaina Estévez (srobaina@ull.edu.es), 2022\n",
      " \n",
      "\n",
      "2022-09-29 15:11:25,776 | INFO: Finding matching HMMs for gene symbols\n",
      "2022-09-29 15:11:25,947 | INFO: Found the following HMMs in database for given structure:\n",
      ">TIGR04485.1 0 >TIGR04488.1 0 >TIGR04490.1 0 >(TIGR01372.1|TIGR04484.1) 0 >(TIGR01373.1|TIGR04486.1) 0 >TIGR04555.1\n",
      "2022-09-29 15:11:26,134 | INFO: Searching database by synteny structure\n",
      "2022-09-29 15:11:26,135 | INFO: Running Hmmer\n",
      "2022-09-29 15:14:35,607 | INFO: Filtering results by synteny structure\n",
      "2022-09-29 15:15:58,818 | INFO: Writing matching sequences to FASTA files\n"
     ]
    },
    {
     "name": "stderr",
     "output_type": "stream",
     "text": [
      "[INFO]\u001b[0m 46 patterns loaded from file\n",
      "[INFO]\u001b[0m 46 patterns loaded from file\n",
      "[INFO]\u001b[0m 46 patterns loaded from file\n",
      "[INFO]\u001b[0m 46 patterns loaded from file\n",
      "[INFO]\u001b[0m 46 patterns loaded from file\n",
      "[INFO]\u001b[0m 46 patterns loaded from file\n"
     ]
    },
    {
     "name": "stdout",
     "output_type": "stream",
     "text": [
      "2022-09-29 15:16:03,511 | INFO: Finished!\n"
     ]
    }
   ],
   "source": [
    "%%bash\n",
    "\n",
    "pynteny search \\\n",
    "    --synteny_struc \">soxX 0 >soxY 0 >soxZ 0 >soxA 0 >soxB 0 >soxC\" \\\n",
    "    --data /home/robaina/Databases/MAR_database/marref_prodigal_longlabels_mmp.faa \\\n",
    "    --outdir example2/ \\\n",
    "    --hmm_dir ../hmm_data/hmm_PGAP \\\n",
    "    --hmm_meta ../hmm_data/hmm_PGAP_no_missing.tsv \\\n",
    "    --gene_ids"
   ]
  },
  {
   "cell_type": "markdown",
   "metadata": {},
   "source": [
    "Let's find out to which organisms these sequences belong to. We will extract the taxonomical info from the MAR ref metadata file."
   ]
  },
  {
   "cell_type": "code",
   "execution_count": 60,
   "metadata": {},
   "outputs": [],
   "source": [
    "# Assign species (GTDB) to each genome ID\n",
    "meta = pd.read_csv(\"/home/robaina/Databases/MAR_database/MarRef_1.7.tsv\", sep=\"\\t\")\n",
    "\n",
    "def assign_tax(genome_id: str) -> str:\n",
    "    try:\n",
    "        return meta.loc[\n",
    "            meta['acc:genbank'].str.contains(f'ena.embl:{x.split(\".\")[0]}'), 'tax:gtdb_classification'\n",
    "            ].item().split(\">\")[-1]\n",
    "    except:\n",
    "        return \"\"\n",
    "    \n",
    "df = pd.read_csv(\"example2/synteny_matched.tsv\", sep=\"\\t\")\n",
    "df[\"taxonomy\"] = df.contig.apply(assign_tax)"
   ]
  },
  {
   "cell_type": "code",
   "execution_count": 67,
   "metadata": {},
   "outputs": [
    {
     "data": {
      "text/html": [
       "<table border=\"1\" class=\"dataframe\">\n",
       "  <thead>\n",
       "    <tr style=\"text-align: center;\">\n",
       "      <th></th>\n",
       "      <th>gene_id</th>\n",
       "      <th>gene_symbol</th>\n",
       "      <th>gene_number</th>\n",
       "      <th>locus</th>\n",
       "      <th>strand</th>\n",
       "      <th>hmm</th>\n",
       "      <th>taxonomy</th>\n",
       "    </tr>\n",
       "  </thead>\n",
       "  <tbody>\n",
       "    <tr>\n",
       "      <th>0</th>\n",
       "      <td>CP000031.2_985</td>\n",
       "      <td>soxX</td>\n",
       "      <td>985</td>\n",
       "      <td>(1045616, 1046089)</td>\n",
       "      <td>pos</td>\n",
       "      <td>TIGR04485.1</td>\n",
       "      <td>s__Ruegeria_B pomeroyi</td>\n",
       "    </tr>\n",
       "    <tr>\n",
       "      <th>1</th>\n",
       "      <td>CP000031.2_986</td>\n",
       "      <td>soxY</td>\n",
       "      <td>986</td>\n",
       "      <td>(1046132, 1046548)</td>\n",
       "      <td>pos</td>\n",
       "      <td>TIGR04488.1</td>\n",
       "      <td>s__Ruegeria_B pomeroyi</td>\n",
       "    </tr>\n",
       "    <tr>\n",
       "      <th>2</th>\n",
       "      <td>CP000031.2_987</td>\n",
       "      <td>soxZ</td>\n",
       "      <td>987</td>\n",
       "      <td>(1046582, 1046911)</td>\n",
       "      <td>pos</td>\n",
       "      <td>TIGR04490.1</td>\n",
       "      <td>s__Ruegeria_B pomeroyi</td>\n",
       "    </tr>\n",
       "    <tr>\n",
       "      <th>3</th>\n",
       "      <td>CP000031.2_988</td>\n",
       "      <td>soxA</td>\n",
       "      <td>988</td>\n",
       "      <td>(1046989, 1047840)</td>\n",
       "      <td>pos</td>\n",
       "      <td>TIGR04484.1</td>\n",
       "      <td>s__Ruegeria_B pomeroyi</td>\n",
       "    </tr>\n",
       "    <tr>\n",
       "      <th>4</th>\n",
       "      <td>CP000031.2_989</td>\n",
       "      <td>soxB</td>\n",
       "      <td>989</td>\n",
       "      <td>(1047975, 1049645)</td>\n",
       "      <td>pos</td>\n",
       "      <td>TIGR04486.1</td>\n",
       "      <td>s__Ruegeria_B pomeroyi</td>\n",
       "    </tr>\n",
       "    <tr>\n",
       "      <th>5</th>\n",
       "      <td>CP000031.2_990</td>\n",
       "      <td>soxC</td>\n",
       "      <td>990</td>\n",
       "      <td>(1049724, 1051007)</td>\n",
       "      <td>pos</td>\n",
       "      <td>TIGR04555.1</td>\n",
       "      <td>s__Ruegeria_B pomeroyi</td>\n",
       "    </tr>\n",
       "  </tbody>\n",
       "</table>"
      ],
      "text/plain": [
       "<IPython.core.display.HTML object>"
      ]
     },
     "metadata": {},
     "output_type": "display_data"
    }
   ],
   "source": [
    "# Display main results\n",
    "till_row = 5\n",
    "display_cols = [\"gene_id\", \"gene_symbol\", \"gene_number\", \"locus\", \"strand\", \"hmm\", \"taxonomy\"]\n",
    "display(HTML(df.loc[:till_row, display_cols].to_html()))"
   ]
  },
  {
   "cell_type": "code",
   "execution_count": 68,
   "metadata": {},
   "outputs": [],
   "source": [
    "# Get original peptide sequences\n",
    "hit_labels = df.loc[:till_row, \"full_label\"].values\n",
    "grep_labels = \"|\".join(hit_labels)"
   ]
  },
  {
   "cell_type": "code",
   "execution_count": 69,
   "metadata": {},
   "outputs": [
    {
     "name": "stdout",
     "output_type": "stream",
     "text": [
      ">CP000031.2_985__CP000031.2_985_1045616_1046089_pos\n",
      "MKTTILTLAAALISGAAWAGETAPGDVVYADGAVEASLTGTPGDAANGAMVVGSKKHGNCVACHQVGALADVPFQGEIGPALDGAGSRWSEAELRGLVANAKLTFEGSMMPSFYRIDGYIRPGDAYTGKAAKGALTPLLSAQEIEDVVAFLATLKDE*\n",
      ">CP000031.2_986__CP000031.2_986_1046132_1046548_pos\n",
      "MDFSRRDTLGLALGAAALTVLPFRVNAAAEDRIAEFTGGAEMGEGGLTLTAPEIAENGNTVPIEVSAPGAAAIMVLAMGNPTPGVAQFNFGPLAAAQAASTRIRLAGTQDVVAIAKMADGSFVKASSTVKVTIGGCGG*\n",
      ">CP000031.2_987__CP000031.2_987_1046582_1046911_pos\n",
      "MASGVKPRVKVPKSVAAGEAITIKTLISHAMESGQRKDKEGNVIPRSIINRFTCEFNGQSVIDITMEPAISTNPYFQFDATVPEAGEFVFTWYDDDGSVYNDNKSITIA*\n",
      ">CP000031.2_988__CP000031.2_988_1046989_1047840_pos\n",
      "MKVRAMTAIAALLAAPLAAVAGPDSDELVVNGEINMVTQTEAPAHLDGALSELYSGWRFRSDETQALQMDDFDNPAMVFVDQAQEAWDTADGTEGKSCASCHGDAADSMAGVRAVYPKWNEAAGEVRTLEAQVNDCRENRMGAKAWKYDGGDMASMTALISVQSRGLPVNVAIDGPAQATWEMGKEIYYTRYGQLELSCANCHEDNYGNMIRADHLSQGHINGFPTYRLKNAKLNTSHARFKGCVRDTRAETFNPGSPEFVALELYVASRGNGLSVEGPSVRN*\n",
      ">CP000031.2_989__CP000031.2_989_1047975_1049645_pos\n",
      "MAASALVGASGFGNWSRLAAQQALTQDQLLEFDTFGNLTLIHITDIHAQLMPIYFREPEVNLGIGAAKGQMPHITGADFRRFYGIEDGSPSAYALTYDDFSSLARTYGRVGGMDRVANVVNAIRADRPDALLLDGGDTWHGSYTCHHTEGQDVVNVMNALKPDAMTFHWEFTLGTDRVTELVESLPFASLGQNIFDAEWDEPAELFKPYKFFERGGVKVAVIGQAFPYMPIANPGWMFPEFSFGIREENMQAMVDEVRAEGAEVVVVLSHNGFDVDKKMAGRVTGIDVILSGHTHDALPEPVLVEQTYVIASGSNGKFVSRVDLDIRDGRMMGLKHKLIPIFSDVIAPDPQVTALINAQREPHIDQLREVIGRTADDALLYRRGNFNGTWDDLICDALISERDADIAMSPGVRWGPSILPGQEITREDIWNVTSMSYGAAYRTEMTGEFLHVVLEDVGDNLFNPDPYYQQGGDMVRVGGLGYRIDVTKPQGSRISDMTLLKTGEQIDPAKNYVVAGWASVNEGTEGPQIWDVVENHIRKLGTVNVTPNTSVEVVGA*\n",
      ">CP000031.2_990__CP000031.2_990_1049724_1051007_pos\n",
      "MSESSGKHSPSRRRFLTSVAAAGAGAVAAGAARAAGPDPLITEVQDWARATGDGVDATPYGLPIEYEGDVIRRNVEWLTADTISSINFTPIHALDGTITPQGCAFERHHSGAIALKKEDYRLMINGLVDTPLVFSYADLERFPRENHVYFCECAANSGMEWAGAQLNGAQFTHGMIHNMEYSGVSLRTLLEEAGLSAAGDLKDKWVYVEGADASSNGRSIPMEKALDDVLVAFKANGEALRKEHGYPVRLVVPGWEGNMWVKWLRRIEVMDGPVESREETSKYTDTLEDGTSRKWTWVMDAKSVVTSPSPQAPITHGAGPLVITGLAWSGRGAITGVDVSIDGGKSWQPARLAAPGQDKALTRFYLDTNWDGSEMLLQSRARDSSGYVQPTKAQLREVRGLNSIYHNNAIQTWWVKANGVAENVEVS*\n"
     ]
    }
   ],
   "source": [
    "%%bash -s \"$grep_labels\"\n",
    "\n",
    "grep -A 1 -E $1 /home/robaina/Databases/MAR_database/marref_prodigal_longlabels_mmp.faa"
   ]
  }
 ],
 "metadata": {
  "kernelspec": {
   "display_name": "Python 3 (ipykernel)",
   "language": "python",
   "name": "python3"
  },
  "language_info": {
   "codemirror_mode": {
    "name": "ipython",
    "version": 3
   },
   "file_extension": ".py",
   "mimetype": "text/x-python",
   "name": "python",
   "nbconvert_exporter": "python",
   "pygments_lexer": "ipython3",
   "version": "3.8.12"
  },
  "vscode": {
   "interpreter": {
    "hash": "72a61de4707cf6170489d2ddea2edd86c71e80569b354848770f4168884b6914"
   }
  }
 },
 "nbformat": 4,
 "nbformat_minor": 4
}
