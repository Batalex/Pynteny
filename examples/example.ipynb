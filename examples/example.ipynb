{
 "cells": [
  {
   "cell_type": "markdown",
   "metadata": {},
   "source": [
    "# Pynteny: example"
   ]
  },
  {
   "cell_type": "code",
   "execution_count": null,
   "metadata": {},
   "outputs": [],
   "source": [
    "from pathlib import Path\n",
    "\n",
    "from pynteny.src.utils import CommandArgs\n",
    "from pynteny.src.subcommands import synteny_search, download_hmms, build_database"
   ]
  },
  {
   "cell_type": "markdown",
   "metadata": {},
   "source": [
    "## Download PGAP profile HMM database\n",
    "\n",
    "Firt, let's download [PGAP](https://academic.oup.com/nar/article/49/D1/D1020/6018440)'s profile HMM database from the NCBI webpage. To this end, we will use pynteny subcommand `download`, which will unzip and store files in the specified output directory. The metadata file will be parsed and filtered to remove HMM entries which are not available in the downloaded database (this is to avoid possible downstream errors)."
   ]
  },
  {
   "cell_type": "code",
   "execution_count": 22,
   "metadata": {},
   "outputs": [],
   "source": [
    "%%bash\n",
    "\n",
    "pynteny download --outdir data/hmms --unpack"
   ]
  },
  {
   "cell_type": "markdown",
   "metadata": {},
   "source": [
    "## Build peptide sequence database\n",
    "\n",
    "For this example we are going to use the [MAR reference](https://mmp2.sfb.uit.no/marref/) database (currently version _v7_), a collection of 970 fully sequenced prokaryotic genomes from the marine environment. Specifically, we will use the assembly data file containing the assembled nucleotide sequences.\n",
    "\n",
    "Our final goal is to build a peptide sequence database in a single FASTA file where each record corresponds to a inferred ORF, which will display the positional information (i.e. ORF number within the parent contig as well as the DNA strand). To this end, we will run pynteny's subcommand `build`, which will take care of:\n",
    "\n",
    "- Predict and translate ORFs with [prodigal]()\n",
    "- Label each ORF with a unique identifier and add positional metadata (with respect to the parent contig)\n",
    "\n",
    "To follow this example, you should have previously downloaded the assembly data file, `assembly.fa`, from [MAR ref](https://mmp2.sfb.uit.no/marref/)."
   ]
  },
  {
   "cell_type": "code",
   "execution_count": 18,
   "metadata": {},
   "outputs": [],
   "source": [
    "%%bash\n",
    "\n",
    "pynteny build \\\n",
    "    --data data/assembly.fa\\\n",
    "    --outfile data/labelled_marref.fasta"
   ]
  },
  {
   "cell_type": "markdown",
   "metadata": {},
   "source": [
    "## Search synteny structure in MAR ref\n",
    "\n",
    "Finally, we are going to use pynteny's `search` subcommand to search for a specific syntenic block withinn the previously built peptide database. Specifically, we are interested in"
   ]
  },
  {
   "cell_type": "code",
   "execution_count": 21,
   "metadata": {},
   "outputs": [],
   "source": [
    "%%bash\n",
    "\n",
    "pynteny search \\\n",
    "    --synteny_struc \"\" \\\n",
    "    --data \"\" \\\n",
    "    --outdir \"\" \\\n",
    "    --hmm_dir \"\" \\\n",
    "    --hmm_meta \"\" \\\n",
    "    --gene_ids"
   ]
  },
  {
   "cell_type": "code",
   "execution_count": null,
   "metadata": {},
   "outputs": [],
   "source": [
    "search_state = CommandArgs(\n",
    "    data=\"data/MG1655.fasta\",\n",
    "    synteny_struc=None,\n",
    "    hmm_dir=\"data/hmms\",\n",
    "    hmm_meta=\"data/hmms/hmm_PGAP_no_missing.tsv\",\n",
    "    outdir=Path(\"results\"),\n",
    "    prefix=\"\",\n",
    "    hmmsearch_args=None,\n",
    "    gene_ids=False,\n",
    "    logfile=True,\n",
    "    processes=None,\n",
    "    unordered=False,\n",
    "    )\n",
    "\n",
    "synhits = synteny_search(search_state).getSyntenyHits()"
   ]
  },
  {
   "cell_type": "code",
   "execution_count": null,
   "metadata": {},
   "outputs": [],
   "source": [
    "search_state.synteny_struc = \"<TIGR00171.1 0 <TIGR00170.1 1 <TIGR00973.1\"\n",
    "\n",
    "synhits = synteny_search(search_state).getSyntenyHits()"
   ]
  }
 ],
 "metadata": {
  "kernelspec": {
   "display_name": "Python 3 (ipykernel)",
   "language": "python",
   "name": "python3"
  },
  "language_info": {
   "codemirror_mode": {
    "name": "ipython",
    "version": 3
   },
   "file_extension": ".py",
   "mimetype": "text/x-python",
   "name": "python",
   "nbconvert_exporter": "python",
   "pygments_lexer": "ipython3",
   "version": "3.8.12"
  },
  "vscode": {
   "interpreter": {
    "hash": "72a61de4707cf6170489d2ddea2edd86c71e80569b354848770f4168884b6914"
   }
  }
 },
 "nbformat": 4,
 "nbformat_minor": 4
}
