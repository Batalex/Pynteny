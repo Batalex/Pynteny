{
 "cells": [
  {
   "cell_type": "markdown",
   "metadata": {},
   "source": [
    "![logo](https://user-images.githubusercontent.com/21340147/192824830-dcbe8d09-2b10-431d-bd9a-b4624192dcc9.png)\n",
    "<br/>\n",
    "<br/>\n",
    "\n",
    "[Semidán Robaina](https://github.com/Robaina), September 2022.\n",
    "\n",
    "In this Notebook, we will use Pynteny through its Python API to find candidate peptide sequences beloging to the _leu_ operon of _Escherichia coli_. Note that we could conduct the same search through Pynteny's command-line interface as well as through Pynteny's web application. Find more info in the [wiki pages](https://github.com/Robaina/Pynteny/wiki). Let's start by importing some required modules."
   ]
  },
  {
   "cell_type": "code",
   "execution_count": 1,
   "metadata": {},
   "outputs": [],
   "source": [
    "from pathlib import Path\n",
    "from pandas import DataFrame\n",
    "from pynteny.src.filter import SyntenyHits\n",
    "from pynteny import Search, Build, Download"
   ]
  },
  {
   "cell_type": "markdown",
   "metadata": {},
   "source": [
    "First, we need to initialize the class `Search` with the appropiate parameters to conduct our synteny-aware search. Find more info about the parameters in the [wiki pages](https://github.com/Robaina/Pynteny/wiki/search).\n",
    "\n",
    "Some notes:\n",
    "\n",
    "- The only required parameters are `data`, the path to the position-labeled peptide database and `synteny_struc`, a string containing the definition of the synteny block to search for\n",
    "\n",
    "- Providing a path to the HMM database directory (`--hmm_dir`) is optional. If not provided, then pynteny will download and store the PGAP HMM database (only once if not previously downloaded) and use it to run the search. A custom HMM database provided in `--hmm_dir`will override pynteny's default database\n",
    "\n",
    "- We can also manually download the PGAP HMM database with the subcommand `pynteny download`"
   ]
  },
  {
   "cell_type": "code",
   "execution_count": 3,
   "metadata": {},
   "outputs": [],
   "source": [
    "# Initialize class\n",
    "search = Search(\n",
    "    data=Path(\"../pynteny/tests/test_data/MG1655.fasta\"),\n",
    "    synteny_struc=None,\n",
    "    hmm_dir=Path(\"../pynteny/tests/test_data/hmms\"),\n",
    "    hmm_meta=Path(\"/home/robaina/Documents/Pynteny/pynteny/tests/test_data/hmm_meta.tsv\"),\n",
    "    outdir=Path(\"example_api/results/\"),\n",
    "    prefix=\"\",\n",
    "    hmmsearch_args=None,\n",
    "    gene_ids=False,\n",
    "    logfile=Path(\"example_api/results/pynteny.log\"),\n",
    "    processes=None,\n",
    "    unordered=False,\n",
    "    )"
   ]
  },
  {
   "cell_type": "markdown",
   "metadata": {},
   "source": [
    "## Search synteny structure in _E. coli_\n",
    "\n",
    "Finally, we are going to use pynteny's `search` subcommand to search for a specific syntenic block within the previously built peptide database. Specifically, we are interested in the [_leu_ operon](https://link.springer.com/article/10.1007/s00253-016-8026-2#Fig1):\n",
    "\n",
    "```\n",
    "<leuD 0 <leuC 1 <leuA\n",
    "```\n",
    "\n",
    "We this synteny structure, we are searching for peptide sequences matching the profile HMM corresponding to these gene symbols, which are also arranged in this particular order, all in the positive (sense) strand, as indicated by `>`, and which are located exactly next to each other in the same contig (no ORFs allowed between them, as indicated by a maximum number of in-between ORFs of 0 in all cases.)"
   ]
  },
  {
   "cell_type": "code",
   "execution_count": null,
   "metadata": {},
   "outputs": [],
   "source": [
    "# Parse gene IDs in synteny structure according to PGAP HMM database metadata\n",
    "parsed_struc = search.parseGeneIDs(synteny_struc=\"<leuD 0 <leuC 1 <leuA\")"
   ]
  },
  {
   "cell_type": "code",
   "execution_count": 7,
   "metadata": {},
   "outputs": [
    {
     "name": "stdout",
     "output_type": "stream",
     "text": [
      "2022-09-29 13:32:55,309 | INFO: Searching database by synteny structure\n",
      "2022-09-29 13:32:55,310 | INFO: Running Hmmer\n",
      "2022-09-29 13:32:55,312 | INFO: Reusing Hmmer results for HMM: TIGR00973.1\n",
      "2022-09-29 13:32:55,316 | INFO: Reusing Hmmer results for HMM: TIGR00171.1\n",
      "2022-09-29 13:32:55,320 | INFO: Reusing Hmmer results for HMM: TIGR00170.1\n",
      "2022-09-29 13:32:55,324 | INFO: Filtering results by synteny structure\n",
      "2022-09-29 13:32:55,401 | INFO: Writing matching sequences to FASTA files\n",
      "2022-09-29 13:32:55,512 | INFO: Finished!\n"
     ]
    },
    {
     "name": "stderr",
     "output_type": "stream",
     "text": [
      "[INFO]\u001b[0m 1 patterns loaded from file\n",
      "[INFO]\u001b[0m 1 patterns loaded from file\n",
      "[INFO]\u001b[0m 1 patterns loaded from file\n"
     ]
    }
   ],
   "source": [
    "# Update parsed synteny structure and Rrun Pynteny search\n",
    "search.update(\"synteny_struc\", parsed_struc)\n",
    "synhits: SyntenyHits = search.run()\n",
    "\n",
    "synhits_df: DataFrame = synhits.getSyntenyHits()"
   ]
  },
  {
   "cell_type": "code",
   "execution_count": 6,
   "metadata": {},
   "outputs": [
    {
     "data": {
      "text/html": [
       "<div>\n",
       "<style scoped>\n",
       "    .dataframe tbody tr th:only-of-type {\n",
       "        vertical-align: middle;\n",
       "    }\n",
       "\n",
       "    .dataframe tbody tr th {\n",
       "        vertical-align: top;\n",
       "    }\n",
       "\n",
       "    .dataframe thead th {\n",
       "        text-align: right;\n",
       "    }\n",
       "</style>\n",
       "<table border=\"1\" class=\"dataframe\">\n",
       "  <thead>\n",
       "    <tr style=\"text-align: right;\">\n",
       "      <th></th>\n",
       "      <th>contig</th>\n",
       "      <th>gene_id</th>\n",
       "      <th>gene_number</th>\n",
       "      <th>locus</th>\n",
       "      <th>strand</th>\n",
       "      <th>full_label</th>\n",
       "      <th>hmm</th>\n",
       "      <th>gene_symbol</th>\n",
       "      <th>label</th>\n",
       "      <th>product</th>\n",
       "      <th>ec_number</th>\n",
       "    </tr>\n",
       "  </thead>\n",
       "  <tbody>\n",
       "    <tr>\n",
       "      <th>0</th>\n",
       "      <td>U00096</td>\n",
       "      <td>b0071</td>\n",
       "      <td>71</td>\n",
       "      <td>(78847, 79453)</td>\n",
       "      <td>neg</td>\n",
       "      <td>b0071__U00096_71_78847_79453_neg</td>\n",
       "      <td>TIGR00171.1</td>\n",
       "      <td>leuD</td>\n",
       "      <td>leuD</td>\n",
       "      <td>3-isopropylmalate dehydratase small subunit</td>\n",
       "      <td>4.2.1.33</td>\n",
       "    </tr>\n",
       "    <tr>\n",
       "      <th>1</th>\n",
       "      <td>U00096</td>\n",
       "      <td>b0072</td>\n",
       "      <td>72</td>\n",
       "      <td>(79463, 80864)</td>\n",
       "      <td>neg</td>\n",
       "      <td>b0072__U00096_72_79463_80864_neg</td>\n",
       "      <td>TIGR00170.1</td>\n",
       "      <td>leuC</td>\n",
       "      <td>leuC</td>\n",
       "      <td>3-isopropylmalate dehydratase large subunit</td>\n",
       "      <td>4.2.1.33</td>\n",
       "    </tr>\n",
       "    <tr>\n",
       "      <th>2</th>\n",
       "      <td>U00096</td>\n",
       "      <td>b0074</td>\n",
       "      <td>74</td>\n",
       "      <td>(81957, 83529)</td>\n",
       "      <td>neg</td>\n",
       "      <td>b0074__U00096_74_81957_83529_neg</td>\n",
       "      <td>TIGR00973.1</td>\n",
       "      <td>leuA</td>\n",
       "      <td>leuA_bact</td>\n",
       "      <td>2-isopropylmalate synthase</td>\n",
       "      <td>2.3.3.13</td>\n",
       "    </tr>\n",
       "  </tbody>\n",
       "</table>\n",
       "</div>"
      ],
      "text/plain": [
       "   contig gene_id  gene_number           locus strand  \\\n",
       "0  U00096   b0071           71  (78847, 79453)    neg   \n",
       "1  U00096   b0072           72  (79463, 80864)    neg   \n",
       "2  U00096   b0074           74  (81957, 83529)    neg   \n",
       "\n",
       "                         full_label          hmm gene_symbol      label  \\\n",
       "0  b0071__U00096_71_78847_79453_neg  TIGR00171.1        leuD       leuD   \n",
       "1  b0072__U00096_72_79463_80864_neg  TIGR00170.1        leuC       leuC   \n",
       "2  b0074__U00096_74_81957_83529_neg  TIGR00973.1        leuA  leuA_bact   \n",
       "\n",
       "                                       product ec_number  \n",
       "0  3-isopropylmalate dehydratase small subunit  4.2.1.33  \n",
       "1  3-isopropylmalate dehydratase large subunit  4.2.1.33  \n",
       "2                   2-isopropylmalate synthase  2.3.3.13  "
      ]
     },
     "execution_count": 6,
     "metadata": {},
     "output_type": "execute_result"
    }
   ],
   "source": [
    "synhits_df.head()"
   ]
  },
  {
   "cell_type": "markdown",
   "metadata": {},
   "source": [
    "## Writing results to output files"
   ]
  },
  {
   "cell_type": "code",
   "execution_count": null,
   "metadata": {},
   "outputs": [],
   "source": [
    "# We can write the hits dataframe to a tsv file\n",
    "synhits.writeToTSV(output_tsv=Path())\n",
    "\n",
    "# Write hit peptide sequencesfor each gene ID / HMM to FASTA files\n",
    "synhits.writeHitSequencesToFASTAfiles(\n",
    "    sequence_database=Path(),\n",
    "    output_dir=Path(),\n",
    "    output_prefix=None\n",
    "    )"
   ]
  },
  {
   "cell_type": "code",
   "execution_count": 2,
   "metadata": {},
   "outputs": [
    {
     "name": "stdout",
     "output_type": "stream",
     "text": [
      "Semidán Robaina Estévez (2022). Pynteny: synteny-aware hmm searches made easy(Version 0.0.2). Zenodo. https://doi.org/10.5281/zenodo.7048685\n"
     ]
    }
   ],
   "source": [
    "Search.cite()"
   ]
  }
 ],
 "metadata": {
  "kernelspec": {
   "display_name": "Python 3.10.5 ('pynteny')",
   "language": "python",
   "name": "python3"
  },
  "language_info": {
   "codemirror_mode": {
    "name": "ipython",
    "version": 3
   },
   "file_extension": ".py",
   "mimetype": "text/x-python",
   "name": "python",
   "nbconvert_exporter": "python",
   "pygments_lexer": "ipython3",
   "version": "3.10.5"
  },
  "orig_nbformat": 4,
  "vscode": {
   "interpreter": {
    "hash": "72a61de4707cf6170489d2ddea2edd86c71e80569b354848770f4168884b6914"
   }
  }
 },
 "nbformat": 4,
 "nbformat_minor": 2
}
