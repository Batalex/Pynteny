{
 "cells": [
  {
   "cell_type": "markdown",
   "metadata": {},
   "source": [
    "![logo](https://user-images.githubusercontent.com/21340147/192824830-dcbe8d09-2b10-431d-bd9a-b4624192dcc9.png)\n",
    "<br/>\n",
    "<br/>\n",
    "\n",
    "[Semidán Robaina](https://github.com/Robaina), September 2022.\n",
    "\n",
    "In this Notebook, we will use Pynteny through its Python API to find candidate peptide sequences beloging to the _leu_ operon of _Escherichia coli_. Note that we could conduct the same search through Pynteny's command-line interface as well as through Pynteny's web application. Find more info in the [wiki pages](https://github.com/Robaina/Pynteny/wiki). Let's start by importing some required modules."
   ]
  },
  {
   "cell_type": "code",
   "execution_count": 1,
   "metadata": {},
   "outputs": [],
   "source": [
    "from pathlib import Path\n",
    "from pandas import DataFrame\n",
    "from pynteny.src.filter import SyntenyHits\n",
    "from pynteny import Search, Build, Download"
   ]
  },
  {
   "cell_type": "markdown",
   "metadata": {},
   "source": [
    "First, we need to initialize the class `Search` with the appropiate parameters to conduct our synteny-aware search. Find more info about the parameters in the [wiki pages](https://github.com/Robaina/Pynteny/wiki/search).\n",
    "\n",
    "Some notes:\n",
    "\n",
    "- The only required parameters are `data`, the path to the position-labeled peptide database and `synteny_struc`, a string containing the definition of the synteny block to search for\n",
    "\n",
    "- Providing a path to the HMM database directory (`--hmm_dir`) is optional. If not provided, then pynteny will download and store the PGAP HMM database (only once if not previously downloaded) and use it to run the search. A custom HMM database provided in `--hmm_dir`will override pynteny's default database\n",
    "\n",
    "- We can also manually download the PGAP HMM database with the subcommand `pynteny download`"
   ]
  },
  {
   "cell_type": "code",
   "execution_count": 3,
   "metadata": {},
   "outputs": [],
   "source": [
    "# Initialize class\n",
    "search = Search(\n",
    "    data=Path(\"../pynteny/tests/test_data/MG1655.fasta\"),\n",
    "    synteny_struc=None,\n",
    "    hmm_dir=Path(\"../pynteny/tests/test_data/hmms\"),\n",
    "    hmm_meta=Path(\"/home/robaina/Documents/Pynteny/pynteny/tests/test_data/hmm_meta.tsv\"),\n",
    "    outdir=Path(\"example_api/results/\"),\n",
    "    prefix=\"\",\n",
    "    hmmsearch_args=None,\n",
    "    gene_ids=False,\n",
    "    logfile=Path(\"example_api/results/pynteny.log\"),\n",
    "    processes=None,\n",
    "    unordered=False,\n",
    "    )"
   ]
  },
  {
   "cell_type": "markdown",
   "metadata": {},
   "source": [
    "## Search synteny structure in _E. coli_\n",
    "\n",
    "Finally, we are going to use pynteny's `search` subcommand to search for a specific syntenic block within the previously built peptide database. Specifically, we are interested in the following structure:\n",
    "\n",
    "```\n",
    "<leuD 0 <leuC 1 <leuA\n",
    "```\n",
    "\n",
    "We this synteny structure, we are searching for peptide sequences matching the profile HMM corresponding to these gene symbols, which are also arranged in this particular order, all in the negative (antisense) strand, as indicated by `<`, and which are located exactly next to each other in the same contig (no ORFs allowed between them, as indicated by a maximum number of in-between ORFs of 0 in all cases.)"
   ]
  },
  {
   "cell_type": "code",
   "execution_count": 4,
   "metadata": {},
   "outputs": [
    {
     "name": "stdout",
     "output_type": "stream",
     "text": [
      "2022-09-30 13:29:06,310 | INFO: Translated \n",
      " \"<leuD 0 <leuC 1 <leuA\" \n",
      " to \n",
      " \"<TIGR00171.1 0 <TIGR00170.1 1 <TIGR00973.1\" \n",
      " according to provided HMM database metadata\n"
     ]
    }
   ],
   "source": [
    "# Parse gene IDs in synteny structure according to PGAP HMM database metadata\n",
    "parsed_struc = search.parseGeneIDs(synteny_struc=\"<leuD 0 <leuC 1 <leuA\")"
   ]
  },
  {
   "cell_type": "markdown",
   "metadata": {},
   "source": [
    "We see that `pynteny parse` has found a number of profile HMMs matching the gene symbols in the provided synteny structure. Additionally, in two cases it has found two HMMs matching a single gene symbol, which are displayed within parentheses and separated by \"|\":\n",
    "\n",
    "`<TIGR00171.1 0 <TIGR00170.1 1 <TIGR00973.1`\n",
    "\n",
    "In these cases, `pynteny search` will match sequences by either or all of the HMMs in each group within parentheses.\n",
    "\n",
    "Alright, now that we know that our HMM database contains models for all the gene symbols in our synteny structure, let's run `pynteny search` to find matches in our peptide sequence database. \n",
    "\n",
    "Some notes:\n",
    "\n",
    "- Since we are using gene symbols instead of HMM names, we need to add the flag `--gene_ids`\n",
    "\n",
    "- We could have directly input the synteny string composed of HMM names. In that case, we wouldn't need to provide the path to the HMM metadata file (`--hmm_meta`) and we would remove the flag `--gene_ids`"
   ]
  },
  {
   "cell_type": "code",
   "execution_count": 5,
   "metadata": {},
   "outputs": [
    {
     "name": "stdout",
     "output_type": "stream",
     "text": [
      "2022-09-30 13:30:29,871 | INFO: Searching database by synteny structure\n",
      "2022-09-30 13:30:29,871 | INFO: Running Hmmer\n",
      "2022-09-30 13:30:29,872 | INFO: Reusing Hmmer results for HMM: TIGR00973.1\n",
      "2022-09-30 13:30:29,878 | INFO: Reusing Hmmer results for HMM: TIGR00171.1\n",
      "2022-09-30 13:30:29,880 | INFO: Reusing Hmmer results for HMM: TIGR00170.1\n",
      "2022-09-30 13:30:29,881 | INFO: Filtering results by synteny structure\n",
      "2022-09-30 13:30:29,917 | INFO: Writing matching sequences to FASTA files\n",
      "2022-09-30 13:30:29,970 | INFO: Finished!\n"
     ]
    }
   ],
   "source": [
    "# Update parsed synteny structure and Rrun Pynteny search\n",
    "search.update(\"synteny_struc\", parsed_struc)\n",
    "synhits: SyntenyHits = search.run()\n",
    "\n",
    "synhits_df: DataFrame = synhits.getSyntenyHits()"
   ]
  },
  {
   "cell_type": "markdown",
   "metadata": {},
   "source": [
    "Pynteny has generated a number of output files in the provided output directory. HMMER3 hit results are stored within the subdirectory `hmmer_outputs`. The main output file, `synteny_matched.tsv` contains the labels of the matched sequences grouped by synteny block and sorted by gene number within their parent contig. The remaining (FASTA) files contain the retrieved peptide sequences for each gene symbol / HMM name in the synteny structure."
   ]
  },
  {
   "cell_type": "code",
   "execution_count": 6,
   "metadata": {},
   "outputs": [
    {
     "data": {
      "text/html": [
       "<div>\n",
       "<style scoped>\n",
       "    .dataframe tbody tr th:only-of-type {\n",
       "        vertical-align: middle;\n",
       "    }\n",
       "\n",
       "    .dataframe tbody tr th {\n",
       "        vertical-align: top;\n",
       "    }\n",
       "\n",
       "    .dataframe thead th {\n",
       "        text-align: right;\n",
       "    }\n",
       "</style>\n",
       "<table border=\"1\" class=\"dataframe\">\n",
       "  <thead>\n",
       "    <tr style=\"text-align: right;\">\n",
       "      <th></th>\n",
       "      <th>contig</th>\n",
       "      <th>gene_id</th>\n",
       "      <th>gene_number</th>\n",
       "      <th>locus</th>\n",
       "      <th>strand</th>\n",
       "      <th>full_label</th>\n",
       "      <th>hmm</th>\n",
       "      <th>gene_symbol</th>\n",
       "      <th>label</th>\n",
       "      <th>product</th>\n",
       "      <th>ec_number</th>\n",
       "    </tr>\n",
       "  </thead>\n",
       "  <tbody>\n",
       "    <tr>\n",
       "      <th>0</th>\n",
       "      <td>U00096</td>\n",
       "      <td>b0071</td>\n",
       "      <td>71</td>\n",
       "      <td>(78847, 79453)</td>\n",
       "      <td>neg</td>\n",
       "      <td>b0071__U00096_71_78847_79453_neg</td>\n",
       "      <td>TIGR00171.1</td>\n",
       "      <td>leuD</td>\n",
       "      <td>leuD</td>\n",
       "      <td>3-isopropylmalate dehydratase small subunit</td>\n",
       "      <td>4.2.1.33</td>\n",
       "    </tr>\n",
       "    <tr>\n",
       "      <th>1</th>\n",
       "      <td>U00096</td>\n",
       "      <td>b0072</td>\n",
       "      <td>72</td>\n",
       "      <td>(79463, 80864)</td>\n",
       "      <td>neg</td>\n",
       "      <td>b0072__U00096_72_79463_80864_neg</td>\n",
       "      <td>TIGR00170.1</td>\n",
       "      <td>leuC</td>\n",
       "      <td>leuC</td>\n",
       "      <td>3-isopropylmalate dehydratase large subunit</td>\n",
       "      <td>4.2.1.33</td>\n",
       "    </tr>\n",
       "    <tr>\n",
       "      <th>2</th>\n",
       "      <td>U00096</td>\n",
       "      <td>b0074</td>\n",
       "      <td>74</td>\n",
       "      <td>(81957, 83529)</td>\n",
       "      <td>neg</td>\n",
       "      <td>b0074__U00096_74_81957_83529_neg</td>\n",
       "      <td>TIGR00973.1</td>\n",
       "      <td>leuA</td>\n",
       "      <td>leuA_bact</td>\n",
       "      <td>2-isopropylmalate synthase</td>\n",
       "      <td>2.3.3.13</td>\n",
       "    </tr>\n",
       "  </tbody>\n",
       "</table>\n",
       "</div>"
      ],
      "text/plain": [
       "   contig gene_id  gene_number           locus strand  \\\n",
       "0  U00096   b0071           71  (78847, 79453)    neg   \n",
       "1  U00096   b0072           72  (79463, 80864)    neg   \n",
       "2  U00096   b0074           74  (81957, 83529)    neg   \n",
       "\n",
       "                         full_label          hmm gene_symbol      label  \\\n",
       "0  b0071__U00096_71_78847_79453_neg  TIGR00171.1        leuD       leuD   \n",
       "1  b0072__U00096_72_79463_80864_neg  TIGR00170.1        leuC       leuC   \n",
       "2  b0074__U00096_74_81957_83529_neg  TIGR00973.1        leuA  leuA_bact   \n",
       "\n",
       "                                       product ec_number  \n",
       "0  3-isopropylmalate dehydratase small subunit  4.2.1.33  \n",
       "1  3-isopropylmalate dehydratase large subunit  4.2.1.33  \n",
       "2                   2-isopropylmalate synthase  2.3.3.13  "
      ]
     },
     "execution_count": 6,
     "metadata": {},
     "output_type": "execute_result"
    }
   ],
   "source": [
    "synhits_df.head()"
   ]
  },
  {
   "cell_type": "markdown",
   "metadata": {},
   "source": [
    "Displayed above the first synteny match in our peptide database, we see that all peptides are located within the same parent contig and respect the positional restrictions of our input synteny structure. Furthermore, all sequences belong to _Ruegeria pomeroyii_, and alphaproteobacteria of the family _Rhodobacteraceae_.\n",
    "\n",
    "Additional notes:\n",
    "\n",
    "- The previous results are strand-specific (all ORFs must be located in the positive or _sense_ strand). However, we could have made them strand-agnostic by omitting the strand symbols in the synteny structure (i.e., using `soxX 0 soxY 0 soxZ 0 soxA 0 soxB 0 soxC`)\n",
    "\n",
    "- We could have made the search even more general dropping the constraint on the arrangement by adding the flag `pynteny search --unordered`. In which case, Pynteny would match any group of 6 ORFs corresponding to the provided HMM names, located in the same contig and adjacent to each other, but not necessarily arranged in the same order displayed by the synteny structure. In other words, `--unordered` enables searching for \"true\" synteny, as opposed to the, more restrictive, collinearity.\n",
    "\n",
    "Alright, finally, let's get the peptide sequences in our original input database that correspond to the identified synteny block displayed above:"
   ]
  },
  {
   "cell_type": "markdown",
   "metadata": {},
   "source": [
    "## Get citation\n",
    "\n",
    "We can get the citation string by calling the `cite` method:"
   ]
  },
  {
   "cell_type": "code",
   "execution_count": 2,
   "metadata": {},
   "outputs": [
    {
     "name": "stdout",
     "output_type": "stream",
     "text": [
      "Semidán Robaina Estévez (2022). Pynteny: synteny-aware hmm searches made easy(Version 0.0.2). Zenodo. https://doi.org/10.5281/zenodo.7048685\n"
     ]
    }
   ],
   "source": [
    "Search.cite()"
   ]
  }
 ],
 "metadata": {
  "kernelspec": {
   "display_name": "Python 3.10.5 ('pynteny')",
   "language": "python",
   "name": "python3"
  },
  "language_info": {
   "codemirror_mode": {
    "name": "ipython",
    "version": 3
   },
   "file_extension": ".py",
   "mimetype": "text/x-python",
   "name": "python",
   "nbconvert_exporter": "python",
   "pygments_lexer": "ipython3",
   "version": "3.10.5"
  },
  "orig_nbformat": 4,
  "vscode": {
   "interpreter": {
    "hash": "72a61de4707cf6170489d2ddea2edd86c71e80569b354848770f4168884b6914"
   }
  }
 },
 "nbformat": 4,
 "nbformat_minor": 2
}
