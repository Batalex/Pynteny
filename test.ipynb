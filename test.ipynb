{
 "cells": [
  {
   "cell_type": "code",
   "execution_count": null,
   "metadata": {},
   "outputs": [],
   "source": [
    "# Ok, you gotta redo the filtering strategy, it's wrong to filter by pairs, this way gene pairs may be isolated (of course)\n",
    "\n",
    "# e.g.,\n",
    "\n",
    "# 2955  HF571520.1_1897__HF571520.1_1897_1878235_18794...  HF571520.1_1897  HF571520.1     1897  (1878235, 1879485)    pos\n",
    "# The above was hit of 899.1\n",
    "# 1271  HF571520.1_1898__HF571520.1_1898_1879706_18817...  HF571520.1_1898  HF571520.1     1898  (1879706, 1881700)    neg\n",
    "# This one hit of 171.1 and 170.1\n",
    "\n",
    "\n",
    "# 899: 1897 (pos)\n",
    "# 171: 411, 1898\n",
    "# 170: 410, 1898\n",
    "\n",
    "\n",
    "# Solutions:\n",
    "\n",
    "\"\"\"\n",
    "1. Sort hmmer hits by contig name, perhaps use a dictionary. Perhaps add tag to label containing hmm name\n",
    "2. Search for hits within the same contig that satisfy the structure\n",
    "\"\"\""
   ]
  },
  {
   "cell_type": "code",
   "execution_count": 26,
   "metadata": {},
   "outputs": [
    {
     "data": {
      "text/html": [
       "<div>\n",
       "<style scoped>\n",
       "    .dataframe tbody tr th:only-of-type {\n",
       "        vertical-align: middle;\n",
       "    }\n",
       "\n",
       "    .dataframe tbody tr th {\n",
       "        vertical-align: top;\n",
       "    }\n",
       "\n",
       "    .dataframe thead th {\n",
       "        text-align: right;\n",
       "    }\n",
       "</style>\n",
       "<table border=\"1\" class=\"dataframe\">\n",
       "  <thead>\n",
       "    <tr style=\"text-align: right;\">\n",
       "      <th></th>\n",
       "      <th>full</th>\n",
       "      <th>gene_id</th>\n",
       "      <th>contig</th>\n",
       "      <th>gene_pos</th>\n",
       "      <th>locus_pos</th>\n",
       "      <th>strand</th>\n",
       "      <th>hmm</th>\n",
       "    </tr>\n",
       "  </thead>\n",
       "  <tbody>\n",
       "    <tr>\n",
       "      <th>0</th>\n",
       "      <td>b0070__U00096_70_77620_78799_pos</td>\n",
       "      <td>b0070</td>\n",
       "      <td>U00096</td>\n",
       "      <td>70</td>\n",
       "      <td>(77620, 78799)</td>\n",
       "      <td>pos</td>\n",
       "      <td>TIGR00899.1</td>\n",
       "    </tr>\n",
       "    <tr>\n",
       "      <th>1</th>\n",
       "      <td>b0071__U00096_71_78847_79453_neg</td>\n",
       "      <td>b0071</td>\n",
       "      <td>U00096</td>\n",
       "      <td>71</td>\n",
       "      <td>(78847, 79453)</td>\n",
       "      <td>neg</td>\n",
       "      <td>TIGR00171.1|TIGR02084.1</td>\n",
       "    </tr>\n",
       "    <tr>\n",
       "      <th>3</th>\n",
       "      <td>b0072__U00096_72_79463_80864_neg</td>\n",
       "      <td>b0072</td>\n",
       "      <td>U00096</td>\n",
       "      <td>72</td>\n",
       "      <td>(79463, 80864)</td>\n",
       "      <td>neg</td>\n",
       "      <td>TIGR00170.1</td>\n",
       "    </tr>\n",
       "    <tr>\n",
       "      <th>4</th>\n",
       "      <td>b0074__U00096_74_81957_83529_neg</td>\n",
       "      <td>b0074</td>\n",
       "      <td>U00096</td>\n",
       "      <td>74</td>\n",
       "      <td>(81957, 83529)</td>\n",
       "      <td>neg</td>\n",
       "      <td>TIGR00973.1</td>\n",
       "    </tr>\n",
       "    <tr>\n",
       "      <th>5</th>\n",
       "      <td>b0118__U00096_117_131614_134212_pos</td>\n",
       "      <td>b0118</td>\n",
       "      <td>U00096</td>\n",
       "      <td>117</td>\n",
       "      <td>(131614, 134212)</td>\n",
       "      <td>pos</td>\n",
       "      <td>TIGR00170.1</td>\n",
       "    </tr>\n",
       "    <tr>\n",
       "      <th>6</th>\n",
       "      <td>b0343__U00096_334_361925_363179_neg</td>\n",
       "      <td>b0343</td>\n",
       "      <td>U00096</td>\n",
       "      <td>334</td>\n",
       "      <td>(361925, 363179)</td>\n",
       "      <td>neg</td>\n",
       "      <td>TIGR00899.1</td>\n",
       "    </tr>\n",
       "    <tr>\n",
       "      <th>7</th>\n",
       "      <td>b0352__U00096_343_373867_374881_pos</td>\n",
       "      <td>b0352</td>\n",
       "      <td>U00096</td>\n",
       "      <td>343</td>\n",
       "      <td>(373867, 374881)</td>\n",
       "      <td>pos</td>\n",
       "      <td>TIGR00973.1</td>\n",
       "    </tr>\n",
       "    <tr>\n",
       "      <th>10</th>\n",
       "      <td>b1053__U00096_1019_1114263_1115490_neg</td>\n",
       "      <td>b1053</td>\n",
       "      <td>U00096</td>\n",
       "      <td>1019</td>\n",
       "      <td>(1114263, 1115490)</td>\n",
       "      <td>neg</td>\n",
       "      <td>TIGR00899.1</td>\n",
       "    </tr>\n",
       "    <tr>\n",
       "      <th>14</th>\n",
       "      <td>b1534__U00096_1509_1621331_1622519_pos</td>\n",
       "      <td>b1534</td>\n",
       "      <td>U00096</td>\n",
       "      <td>1509</td>\n",
       "      <td>(1621331, 1622519)</td>\n",
       "      <td>pos</td>\n",
       "      <td>TIGR00899.1</td>\n",
       "    </tr>\n",
       "    <tr>\n",
       "      <th>15</th>\n",
       "      <td>b2170__U00096_2139_2263862_2265044_pos</td>\n",
       "      <td>b2170</td>\n",
       "      <td>U00096</td>\n",
       "      <td>2139</td>\n",
       "      <td>(2263862, 2265044)</td>\n",
       "      <td>pos</td>\n",
       "      <td>TIGR00899.1</td>\n",
       "    </tr>\n",
       "    <tr>\n",
       "      <th>16</th>\n",
       "      <td>b2322__U00096_2290_2438941_2440120_neg</td>\n",
       "      <td>b2322</td>\n",
       "      <td>U00096</td>\n",
       "      <td>2290</td>\n",
       "      <td>(2438941, 2440120)</td>\n",
       "      <td>neg</td>\n",
       "      <td>TIGR00899.1</td>\n",
       "    </tr>\n",
       "    <tr>\n",
       "      <th>17</th>\n",
       "      <td>b2367__U00096_2333_2480637_2482176_neg</td>\n",
       "      <td>b2367</td>\n",
       "      <td>U00096</td>\n",
       "      <td>2333</td>\n",
       "      <td>(2480637, 2482176)</td>\n",
       "      <td>neg</td>\n",
       "      <td>TIGR00899.1</td>\n",
       "    </tr>\n",
       "    <tr>\n",
       "      <th>18</th>\n",
       "      <td>b2406__U00096_2368_2522728_2523985_neg</td>\n",
       "      <td>b2406</td>\n",
       "      <td>U00096</td>\n",
       "      <td>2368</td>\n",
       "      <td>(2522728, 2523985)</td>\n",
       "      <td>neg</td>\n",
       "      <td>TIGR00899.1</td>\n",
       "    </tr>\n",
       "    <tr>\n",
       "      <th>19</th>\n",
       "      <td>b2536__U00096_2502_2666706_2667846_neg</td>\n",
       "      <td>b2536</td>\n",
       "      <td>U00096</td>\n",
       "      <td>2502</td>\n",
       "      <td>(2666706, 2667846)</td>\n",
       "      <td>neg</td>\n",
       "      <td>TIGR00899.1</td>\n",
       "    </tr>\n",
       "    <tr>\n",
       "      <th>20</th>\n",
       "      <td>b2964__U00096_2902_3105713_3106970_pos</td>\n",
       "      <td>b2964</td>\n",
       "      <td>U00096</td>\n",
       "      <td>2902</td>\n",
       "      <td>(3105713, 3106970)</td>\n",
       "      <td>pos</td>\n",
       "      <td>TIGR00899.1</td>\n",
       "    </tr>\n",
       "    <tr>\n",
       "      <th>21</th>\n",
       "      <td>b3659__U00096_3586_3836952_3838137_pos</td>\n",
       "      <td>b3659</td>\n",
       "      <td>U00096</td>\n",
       "      <td>3586</td>\n",
       "      <td>(3836952, 3838137)</td>\n",
       "      <td>pos</td>\n",
       "      <td>TIGR00899.1</td>\n",
       "    </tr>\n",
       "    <tr>\n",
       "      <th>22</th>\n",
       "      <td>b3662__U00096_3591_3840548_3841739_neg</td>\n",
       "      <td>b3662</td>\n",
       "      <td>U00096</td>\n",
       "      <td>3591</td>\n",
       "      <td>(3840548, 3841739)</td>\n",
       "      <td>neg</td>\n",
       "      <td>TIGR00899.1</td>\n",
       "    </tr>\n",
       "  </tbody>\n",
       "</table>\n",
       "</div>"
      ],
      "text/plain": [
       "                                      full gene_id  contig  gene_pos  \\\n",
       "0         b0070__U00096_70_77620_78799_pos   b0070  U00096        70   \n",
       "1         b0071__U00096_71_78847_79453_neg   b0071  U00096        71   \n",
       "3         b0072__U00096_72_79463_80864_neg   b0072  U00096        72   \n",
       "4         b0074__U00096_74_81957_83529_neg   b0074  U00096        74   \n",
       "5      b0118__U00096_117_131614_134212_pos   b0118  U00096       117   \n",
       "6      b0343__U00096_334_361925_363179_neg   b0343  U00096       334   \n",
       "7      b0352__U00096_343_373867_374881_pos   b0352  U00096       343   \n",
       "10  b1053__U00096_1019_1114263_1115490_neg   b1053  U00096      1019   \n",
       "14  b1534__U00096_1509_1621331_1622519_pos   b1534  U00096      1509   \n",
       "15  b2170__U00096_2139_2263862_2265044_pos   b2170  U00096      2139   \n",
       "16  b2322__U00096_2290_2438941_2440120_neg   b2322  U00096      2290   \n",
       "17  b2367__U00096_2333_2480637_2482176_neg   b2367  U00096      2333   \n",
       "18  b2406__U00096_2368_2522728_2523985_neg   b2406  U00096      2368   \n",
       "19  b2536__U00096_2502_2666706_2667846_neg   b2536  U00096      2502   \n",
       "20  b2964__U00096_2902_3105713_3106970_pos   b2964  U00096      2902   \n",
       "21  b3659__U00096_3586_3836952_3838137_pos   b3659  U00096      3586   \n",
       "22  b3662__U00096_3591_3840548_3841739_neg   b3662  U00096      3591   \n",
       "\n",
       "             locus_pos strand                      hmm  \n",
       "0       (77620, 78799)    pos              TIGR00899.1  \n",
       "1       (78847, 79453)    neg  TIGR00171.1|TIGR02084.1  \n",
       "3       (79463, 80864)    neg              TIGR00170.1  \n",
       "4       (81957, 83529)    neg              TIGR00973.1  \n",
       "5     (131614, 134212)    pos              TIGR00170.1  \n",
       "6     (361925, 363179)    neg              TIGR00899.1  \n",
       "7     (373867, 374881)    pos              TIGR00973.1  \n",
       "10  (1114263, 1115490)    neg              TIGR00899.1  \n",
       "14  (1621331, 1622519)    pos              TIGR00899.1  \n",
       "15  (2263862, 2265044)    pos              TIGR00899.1  \n",
       "16  (2438941, 2440120)    neg              TIGR00899.1  \n",
       "17  (2480637, 2482176)    neg              TIGR00899.1  \n",
       "18  (2522728, 2523985)    neg              TIGR00899.1  \n",
       "19  (2666706, 2667846)    neg              TIGR00899.1  \n",
       "20  (3105713, 3106970)    pos              TIGR00899.1  \n",
       "21  (3836952, 3838137)    pos              TIGR00899.1  \n",
       "22  (3840548, 3841739)    neg              TIGR00899.1  "
      ]
     },
     "execution_count": 26,
     "metadata": {},
     "output_type": "execute_result"
    }
   ],
   "source": [
    "import pandas as pd\n",
    "\n",
    "\n",
    "def mergeHitsByHMMgroup(hits: pd.DataFrame, input_hmm_groups: list[str]):\n",
    "    g = hits.groupby([\"full\"]).groups\n",
    "    _, group_idxs = list(g.keys()), list(g.values())\n",
    "    for group in group_idxs:\n",
    "        hmm_names = set(hits.loc[group, \"hmm\"].values)\n",
    "        candidate_hmm_group = [\n",
    "            hmm_group_str for hmm_group_str in input_hmm_groups\n",
    "            if hmm_names == set(hmm_group_str.split(\"|\"))\n",
    "            ]\n",
    "        if candidate_hmm_group:\n",
    "            hmm_group = candidate_hmm_group[0]\n",
    "        else:\n",
    "            hmm_group = \"discard\"\n",
    "        hits.loc[group, \"hmm\"] = hmm_group\n",
    "\n",
    "    hits = hits[hits.hmm != \"discard\"].drop_duplicates()\n",
    "    return hits\n",
    "\n",
    "\n",
    "\n",
    "hits = pd.read_csv(\"/home/robaina/Documents/Pynteny/allhits.csv\", index_col=False)\n",
    "\n",
    "syn_struct = \">TIGR00899.1 0 <(TIGR00171.1|TIGR02084.1) 0 <TIGR00170.1 1 <TIGR00973.1\"\n",
    "hmm_groups = SyntenyParser.getHMMgroupsInStructure(syn_struct)\n",
    "\n",
    "\n",
    "mergeHitsByHMMgroup(hits, hmm_groups)"
   ]
  },
  {
   "cell_type": "code",
   "execution_count": 21,
   "metadata": {},
   "outputs": [
    {
     "data": {
      "text/plain": [
       "['TIGR00899.1', 'TIGR00171.1|TIGR02084.1', 'TIGR00170.1', 'TIGR00973.1']"
      ]
     },
     "execution_count": 21,
     "metadata": {},
     "output_type": "execute_result"
    }
   ],
   "source": [
    "hmm_groups"
   ]
  },
  {
   "cell_type": "code",
   "execution_count": 10,
   "metadata": {},
   "outputs": [
    {
     "data": {
      "text/plain": [
       "{'TIGR00899.1': 0,\n",
       " 'TIGR00171.1|TIGR02084.1': 1,\n",
       " 'TIGR00170.1': 2,\n",
       " 'TIGR00973.1': 3}"
      ]
     },
     "execution_count": 10,
     "metadata": {},
     "output_type": "execute_result"
    }
   ],
   "source": [
    "from pynteny.filter import SyntenyParser\n",
    "\n",
    "\n",
    "syn_struct = \">TIGR00899.1 0 <(TIGR00171.1|TIGR02084.1) 0 <TIGR00170.1 1 <TIGR00973.1\"\n",
    "hmm_groups = SyntenyParser.getHMMgroupsInStructure(syn_struct)\n",
    "\n",
    "\n",
    "hmm_dict = dict(zip(hmm_groups, range(len(hmm_groups))))\n",
    "hmm_dict"
   ]
  },
  {
   "cell_type": "code",
   "execution_count": 13,
   "metadata": {},
   "outputs": [
    {
     "data": {
      "text/plain": [
       "[1]"
      ]
     },
     "execution_count": 13,
     "metadata": {},
     "output_type": "execute_result"
    }
   ],
   "source": [
    "hmm = \"TIGR00171.1\"\n",
    "hmm = \"TIGR02084.1\"\n",
    "[val for key, val in hmm_dict.items() if hmm in key]\n",
    "\n",
    "def assignCodeToHMM(hmm_name: str):\n",
    "    code = [\n",
    "        code for hmm_group, code in hmm_dict.items()\n",
    "        if hmm_name in hmm_group\n",
    "        ]\n",
    "    if len(code) > 1:\n",
    "        raise ValueError(\n",
    "        f\"HMM: {hmm_name} found in more than one hmm group in synteny structure\"\n",
    "        )\n",
    "    return code[0]"
   ]
  },
  {
   "cell_type": "code",
   "execution_count": 6,
   "metadata": {},
   "outputs": [
    {
     "data": {
      "text/plain": [
       "array(['TIGR00170.1', 'TIGR02083.1'], dtype=object)"
      ]
     },
     "execution_count": 6,
     "metadata": {},
     "output_type": "execute_result"
    }
   ],
   "source": [
    "# leuD: TIGR02084.1 | TIGR00171.1"
   ]
  },
  {
   "cell_type": "code",
   "execution_count": 2,
   "metadata": {},
   "outputs": [
    {
     "data": {
      "text/plain": [
       "[PosixPath('/home/robaina/Documents/Pynteny/tests/MG1655.fasta'),\n",
       " PosixPath('/home/robaina/Documents/Pynteny/tests/MG1655.gb'),\n",
       " PosixPath('/home/robaina/Documents/Pynteny/tests/MG1655_results'),\n",
       " PosixPath('/home/robaina/Documents/Pynteny/tests/sar11_results')]"
      ]
     },
     "execution_count": 2,
     "metadata": {},
     "output_type": "execute_result"
    }
   ],
   "source": [
    "\n",
    "from pathlib import Path \n",
    "\n",
    "p = \"/home/robaina/Documents/Pynteny/tests/\"\n",
    "dir = Path(p)\n",
    "\n",
    "list(dir.iterdir())"
   ]
  },
  {
   "cell_type": "code",
   "execution_count": 3,
   "metadata": {},
   "outputs": [
    {
     "data": {
      "text/plain": [
       "True"
      ]
     },
     "execution_count": 3,
     "metadata": {},
     "output_type": "execute_result"
    }
   ],
   "source": [
    "dir.is_dir()"
   ]
  },
  {
   "cell_type": "code",
   "execution_count": 5,
   "metadata": {},
   "outputs": [
    {
     "data": {
      "text/plain": [
       "'/home/robaina/merged.fasta'"
      ]
     },
     "execution_count": 5,
     "metadata": {},
     "output_type": "execute_result"
    }
   ],
   "source": [
    "infile = Path(p) / \"merged.fasta\"\n",
    "str(infile)"
   ]
  },
  {
   "cell_type": "code",
   "execution_count": 7,
   "metadata": {},
   "outputs": [
    {
     "data": {
      "text/plain": [
       "'.gz'"
      ]
     },
     "execution_count": 7,
     "metadata": {},
     "output_type": "execute_result"
    }
   ],
   "source": [
    "file = Path(\"hola/que.tar.gz\")\n",
    "file.suffix"
   ]
  },
  {
   "cell_type": "code",
   "execution_count": 4,
   "metadata": {},
   "outputs": [
    {
     "data": {
      "text/plain": [
       "'-p /home/robaina/merged.fasta'"
      ]
     },
     "execution_count": 4,
     "metadata": {},
     "output_type": "execute_result"
    }
   ],
   "source": [
    "f\"-p {infile}\""
   ]
  },
  {
   "cell_type": "code",
   "execution_count": 3,
   "metadata": {},
   "outputs": [
    {
     "data": {
      "text/plain": [
       "'merged'"
      ]
     },
     "execution_count": 3,
     "metadata": {},
     "output_type": "execute_result"
    }
   ],
   "source": [
    "infile.parent\n",
    "\n",
    "infile.stem"
   ]
  },
  {
   "cell_type": "code",
   "execution_count": 2,
   "metadata": {},
   "outputs": [
    {
     "data": {
      "text/plain": [
       "PosixPath('/home/robaina')"
      ]
     },
     "execution_count": 2,
     "metadata": {},
     "output_type": "execute_result"
    }
   ],
   "source": [
    "Path(Path(p))"
   ]
  },
  {
   "cell_type": "code",
   "execution_count": 10,
   "metadata": {},
   "outputs": [
    {
     "data": {
      "text/plain": [
       "True"
      ]
     },
     "execution_count": 10,
     "metadata": {},
     "output_type": "execute_result"
    }
   ],
   "source": [
    "from pathlib import Path, PosixPath\n",
    "\n",
    "output = Path(\"tests/outfile.txt\")\n",
    "\n",
    "output.absolute().as_posix()\n",
    "\n",
    "type(output) == PosixPath"
   ]
  },
  {
   "cell_type": "code",
   "execution_count": null,
   "metadata": {},
   "outputs": [],
   "source": [
    "from pynteny.preprocessing import removeCorruptedSequences\n",
    "\n",
    "\n",
    "removeCorruptedSequences(\n",
    "    fasta_file=\"/home/robaina/Databases/MAR_database/marref_V6_positioned.faa\",\n",
    "    output_file=\"/home/robaina/Databases/MAR_database/marref_V6_positioned_clean.faa\",\n",
    "    is_peptide=True,\n",
    "    keep_stop_codon=True\n",
    ")"
   ]
  },
  {
   "cell_type": "code",
   "execution_count": 1,
   "metadata": {},
   "outputs": [
    {
     "data": {
      "text/plain": [
       "'/home/robaina/Databases/MAR_database'"
      ]
     },
     "execution_count": 1,
     "metadata": {},
     "output_type": "execute_result"
    }
   ],
   "source": [
    "from pynteny.utils import setDefaultOutputPath\n",
    "\n",
    "\n",
    "name = setDefaultOutputPath(\n",
    "    input_path=\"/home/robaina/Databases/MAR_database/marref_assembly_V6.fa\",\n",
    "    only_dirname=True\n",
    ")\n",
    "\n",
    "name"
   ]
  },
  {
   "cell_type": "code",
   "execution_count": 1,
   "metadata": {},
   "outputs": [],
   "source": [
    "import pandas as pd\n",
    "from pynteny.utils import readFromPickleFile\n",
    "from pynteny.filter import LabelParser\n",
    "from pynteny.filter import SyntenyHMMfilter\n",
    "\n",
    "\n",
    "\n",
    "synteny_structure = \">TIGR00899.1 0 <TIGR00171.1 0 <TIGR00170.1 1 <TIGR00973.1\"\n",
    "hmm_hits = readFromPickleFile(\"/home/robaina/Documents/Pynteny/hmm_hits.pickle\")\n",
    "\n",
    "\n",
    "syntenyfilter = SyntenyHMMfilter(hmm_hits, synteny_structure)"
   ]
  },
  {
   "cell_type": "code",
   "execution_count": 1,
   "metadata": {},
   "outputs": [],
   "source": [
    "import os \n",
    "\n",
    "from pynteny.utils import fullPathListDir\n",
    "\n",
    "for file in fullPathListDir(\"/home/robaina/Databases/MarRef_1.7/prodigal\"):\n",
    "    if '.gbk' in file:\n",
    "        os.remove(file)"
   ]
  },
  {
   "cell_type": "code",
   "execution_count": 1,
   "metadata": {},
   "outputs": [],
   "source": [
    "from Bio import SeqIO, SeqRecord\n",
    "\n",
    "\n",
    "file = \"/home/robaina/Documents/Pynteny/MG1655.gb\"\n",
    "file = \"/home/robaina/Databases/MarRef_1.7/prodigal/marref.gbk\"\n",
    "file = \"/home/robaina/Documents/Pynteny/BACL149.gbk\"\n",
    "gbk_contigs = list(SeqIO.parse(file, 'genbank'))"
   ]
  },
  {
   "cell_type": "code",
   "execution_count": 2,
   "metadata": {},
   "outputs": [
    {
     "data": {
      "text/plain": [
       "[SeqRecord(seq=Seq('ATCAACACCCAGTTTTTTCCAAGGTAAGTTTTCTGGATCGCTTTCGTGAAAACA...GCC'), id='1', name='1', description='Genus species strain strain', dbxrefs=[])]"
      ]
     },
     "execution_count": 2,
     "metadata": {},
     "output_type": "execute_result"
    }
   ],
   "source": [
    "gbk_contig = gbk_contigs[0]"
   ]
  }
 ],
 "metadata": {
  "interpreter": {
   "hash": "367a058ebb24ea2c2bb1633bf810ec6a1a05f59e065f27f721ea93103e797079"
  },
  "kernelspec": {
   "display_name": "Python 3.9.6 ('traits')",
   "language": "python",
   "name": "python3"
  },
  "language_info": {
   "codemirror_mode": {
    "name": "ipython",
    "version": 3
   },
   "file_extension": ".py",
   "mimetype": "text/x-python",
   "name": "python",
   "nbconvert_exporter": "python",
   "pygments_lexer": "ipython3",
   "version": "3.9.6"
  },
  "orig_nbformat": 4
 },
 "nbformat": 4,
 "nbformat_minor": 2
}
