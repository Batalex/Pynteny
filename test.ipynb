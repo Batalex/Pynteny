{
 "cells": [
  {
   "cell_type": "code",
   "execution_count": null,
   "metadata": {},
   "outputs": [],
   "source": [
    "# Ok, you gotta redo the filtering strategy, it's wrong to filter by pairs, this way gene pairs may be isolated (of course)\n",
    "\n",
    "# e.g.,\n",
    "\n",
    "# 2955  HF571520.1_1897__HF571520.1_1897_1878235_18794...  HF571520.1_1897  HF571520.1     1897  (1878235, 1879485)    pos\n",
    "# The above was hit of 899.1\n",
    "# 1271  HF571520.1_1898__HF571520.1_1898_1879706_18817...  HF571520.1_1898  HF571520.1     1898  (1879706, 1881700)    neg\n",
    "# This one hit of 171.1 and 170.1\n",
    "\n",
    "\n",
    "# 899: 1897 (pos)\n",
    "# 171: 411, 1898\n",
    "# 170: 410, 1898\n",
    "\n",
    "\n",
    "# Solutions:\n",
    "\n",
    "\"\"\"\n",
    "1. Sort hmmer hits by contig name, perhaps use a dictionary. Perhaps add tag to label containing hmm name\n",
    "2. Search for hits within the same contig that satisfy the structure\n",
    "\"\"\""
   ]
  },
  {
   "cell_type": "code",
   "execution_count": 10,
   "metadata": {},
   "outputs": [
    {
     "data": {
      "text/plain": [
       "['TIGR00170.1', 'TIGR02083.1']"
      ]
     },
     "execution_count": 10,
     "metadata": {},
     "output_type": "execute_result"
    }
   ],
   "source": [
    "# Mapping hmm models to gene names (PGAP database)\n",
    "\n",
    "from pathlib import Path\n",
    "import pandas as pd\n",
    "\n",
    "\n",
    "meta = pd.read_csv(\"/home/robaina/Documents/Pynteny/hmm_PGAP.tsv\", sep=\"\\t\")\n",
    "\n",
    "\n",
    "class PGAP:\n",
    "    def __init__(self, meta_file: Path) -> None:\n",
    "        \"\"\"\n",
    "        Tools to parse PGAP hmm database metadata\n",
    "        \"\"\"\n",
    "        meta = pd.read_csv(meta_file, sep=\"\\t\")\n",
    "        meta = meta[[\"#ncbi_accession\", \"gene_symbol\", \"product_name\"]]\n",
    "        self._meta = meta\n",
    "        return None \n",
    "\n",
    "    def getHMMnamesByGeneID(self, gene_id: str) -> list[str]:\n",
    "        \"\"\"\n",
    "        Try to retrieve HMM by its gene symbol, more\n",
    "        than one HMM may map to a single gene symbol\n",
    "        \"\"\"\n",
    "        meta = self._meta.dropna(subset=[\"gene_symbol\"], axis=0)\n",
    "        try:\n",
    "            return meta[\n",
    "                meta.gene_symbol == gene_id\n",
    "                ][\"#ncbi_accession\"].values.tolist()\n",
    "        except:\n",
    "            return None\n",
    "    \n",
    "    def getHMMgeneID(self, hmm_name: str) -> list[str]: \n",
    "        \"\"\"\n",
    "        Get gene symbol of given hmm\n",
    "        \"\"\"\n",
    "        meta = self._meta.dropna(subset=[\"#ncbi_accession\"], axis=0)\n",
    "        try:\n",
    "            return meta[\n",
    "                meta[\"#ncbi_accession\"] == hmm_name\n",
    "            ][\"gene_symbol\"].values.tolist()\n",
    "        except:\n",
    "            return None\n",
    "\n",
    "    def getHMMgeneProduct(self, hmm_name: str) -> list[str]: \n",
    "        \"\"\"\n",
    "        Get gene product of given hmm\n",
    "        \"\"\"\n",
    "        meta = self._meta.dropna(subset=[\"#ncbi_accession\"], axis=0)\n",
    "        try:\n",
    "            return meta[\n",
    "                meta[\"#ncbi_accession\"] == hmm_name\n",
    "            ][\"product_name\"].values.tolist()\n",
    "        except:\n",
    "            return None\n",
    "\n",
    "\n",
    "\n",
    "\n",
    "pgap = PGAP(Path(\"/home/robaina/Documents/Pynteny/hmm_PGAP.tsv\"))\n",
    "pgap.getHMMnamesByGeneID(\"leuC\")"
   ]
  },
  {
   "cell_type": "code",
   "execution_count": 6,
   "metadata": {},
   "outputs": [
    {
     "data": {
      "text/plain": [
       "array(['TIGR00170.1', 'TIGR02083.1'], dtype=object)"
      ]
     },
     "execution_count": 6,
     "metadata": {},
     "output_type": "execute_result"
    }
   ],
   "source": [
    "\"leuC\" in meta.gene_symbol.unique()\n",
    "\n",
    "gene_id = \"leuC\"\n",
    "\n",
    "meta[meta.gene_symbol == gene_id][\"#ncbi_accession\"].values"
   ]
  },
  {
   "cell_type": "code",
   "execution_count": 2,
   "metadata": {},
   "outputs": [
    {
     "data": {
      "text/plain": [
       "[PosixPath('/home/robaina/Documents/Pynteny/tests/MG1655.fasta'),\n",
       " PosixPath('/home/robaina/Documents/Pynteny/tests/MG1655.gb'),\n",
       " PosixPath('/home/robaina/Documents/Pynteny/tests/MG1655_results'),\n",
       " PosixPath('/home/robaina/Documents/Pynteny/tests/sar11_results')]"
      ]
     },
     "execution_count": 2,
     "metadata": {},
     "output_type": "execute_result"
    }
   ],
   "source": [
    "\n",
    "from pathlib import Path \n",
    "\n",
    "p = \"/home/robaina/Documents/Pynteny/tests/\"\n",
    "dir = Path(p)\n",
    "\n",
    "list(dir.iterdir())"
   ]
  },
  {
   "cell_type": "code",
   "execution_count": 3,
   "metadata": {},
   "outputs": [
    {
     "data": {
      "text/plain": [
       "True"
      ]
     },
     "execution_count": 3,
     "metadata": {},
     "output_type": "execute_result"
    }
   ],
   "source": [
    "dir.is_dir()"
   ]
  },
  {
   "cell_type": "code",
   "execution_count": 5,
   "metadata": {},
   "outputs": [
    {
     "data": {
      "text/plain": [
       "'/home/robaina/merged.fasta'"
      ]
     },
     "execution_count": 5,
     "metadata": {},
     "output_type": "execute_result"
    }
   ],
   "source": [
    "infile = Path(p) / \"merged.fasta\"\n",
    "str(infile)"
   ]
  },
  {
   "cell_type": "code",
   "execution_count": 7,
   "metadata": {},
   "outputs": [
    {
     "data": {
      "text/plain": [
       "'.gz'"
      ]
     },
     "execution_count": 7,
     "metadata": {},
     "output_type": "execute_result"
    }
   ],
   "source": [
    "file = Path(\"hola/que.tar.gz\")\n",
    "file.suffix"
   ]
  },
  {
   "cell_type": "code",
   "execution_count": 4,
   "metadata": {},
   "outputs": [
    {
     "data": {
      "text/plain": [
       "'-p /home/robaina/merged.fasta'"
      ]
     },
     "execution_count": 4,
     "metadata": {},
     "output_type": "execute_result"
    }
   ],
   "source": [
    "f\"-p {infile}\""
   ]
  },
  {
   "cell_type": "code",
   "execution_count": 3,
   "metadata": {},
   "outputs": [
    {
     "data": {
      "text/plain": [
       "'merged'"
      ]
     },
     "execution_count": 3,
     "metadata": {},
     "output_type": "execute_result"
    }
   ],
   "source": [
    "infile.parent\n",
    "\n",
    "infile.stem"
   ]
  },
  {
   "cell_type": "code",
   "execution_count": 2,
   "metadata": {},
   "outputs": [
    {
     "data": {
      "text/plain": [
       "PosixPath('/home/robaina')"
      ]
     },
     "execution_count": 2,
     "metadata": {},
     "output_type": "execute_result"
    }
   ],
   "source": [
    "Path(Path(p))"
   ]
  },
  {
   "cell_type": "code",
   "execution_count": 10,
   "metadata": {},
   "outputs": [
    {
     "data": {
      "text/plain": [
       "True"
      ]
     },
     "execution_count": 10,
     "metadata": {},
     "output_type": "execute_result"
    }
   ],
   "source": [
    "from pathlib import Path, PosixPath\n",
    "\n",
    "output = Path(\"tests/outfile.txt\")\n",
    "\n",
    "output.absolute().as_posix()\n",
    "\n",
    "type(output) == PosixPath"
   ]
  },
  {
   "cell_type": "code",
   "execution_count": null,
   "metadata": {},
   "outputs": [],
   "source": [
    "from pynteny.preprocessing import removeCorruptedSequences\n",
    "\n",
    "\n",
    "removeCorruptedSequences(\n",
    "    fasta_file=\"/home/robaina/Databases/MAR_database/marref_V6_positioned.faa\",\n",
    "    output_file=\"/home/robaina/Databases/MAR_database/marref_V6_positioned_clean.faa\",\n",
    "    is_peptide=True,\n",
    "    keep_stop_codon=True\n",
    ")"
   ]
  },
  {
   "cell_type": "code",
   "execution_count": 1,
   "metadata": {},
   "outputs": [
    {
     "data": {
      "text/plain": [
       "'/home/robaina/Databases/MAR_database'"
      ]
     },
     "execution_count": 1,
     "metadata": {},
     "output_type": "execute_result"
    }
   ],
   "source": [
    "from pynteny.utils import setDefaultOutputPath\n",
    "\n",
    "\n",
    "name = setDefaultOutputPath(\n",
    "    input_path=\"/home/robaina/Databases/MAR_database/marref_assembly_V6.fa\",\n",
    "    only_dirname=True\n",
    ")\n",
    "\n",
    "name"
   ]
  },
  {
   "cell_type": "code",
   "execution_count": 3,
   "metadata": {},
   "outputs": [
    {
     "data": {
      "text/plain": [
       "True"
      ]
     },
     "execution_count": 3,
     "metadata": {},
     "output_type": "execute_result"
    }
   ],
   "source": [
    "import pandas as pd\n",
    "10 <= float('inf')"
   ]
  },
  {
   "cell_type": "code",
   "execution_count": 1,
   "metadata": {},
   "outputs": [],
   "source": [
    "import pandas as pd\n",
    "from pynteny.utils import readFromPickleFile\n",
    "from pynteny.filter import LabelParser\n",
    "from pynteny.filter import SyntenyHMMfilter\n",
    "\n",
    "\n",
    "\n",
    "synteny_structure = \">TIGR00899.1 0 <TIGR00171.1 0 <TIGR00170.1 1 <TIGR00973.1\"\n",
    "hmm_hits = readFromPickleFile(\"/home/robaina/Documents/Pynteny/hmm_hits.pickle\")\n",
    "\n",
    "\n",
    "syntenyfilter = SyntenyHMMfilter(hmm_hits, synteny_structure)"
   ]
  },
  {
   "cell_type": "code",
   "execution_count": 2,
   "metadata": {},
   "outputs": [],
   "source": [
    "matches = syntenyfilter.filterHitsBySyntenyStructure(output_tsv=\"restuls_filter.tsv\")"
   ]
  },
  {
   "cell_type": "code",
   "execution_count": 7,
   "metadata": {},
   "outputs": [],
   "source": [
    "import pandas as pd\n",
    "from pynteny.utils import readFromPickleFile\n",
    "from pynteny.filter import LabelParser\n",
    "\n",
    "\n",
    "hmm_hits = readFromPickleFile(\"/home/robaina/Documents/Pynteny/hmm_hits.pickle\")\n",
    "\n",
    "hmm_order = [\"TIGR00899.1\", \"TIGR00171.1\", \"TIGR00170.1\", \"TIGR00973.1\"]\n",
    "n_hmms = len(hmm_order)\n",
    "hmm_order_dict = dict(zip(hmm_order, range(n_hmms)))\n",
    "\n",
    "hit_labels = {}\n",
    "labelparser = LabelParser()\n",
    "for hmm, hits in hmm_hits.items():\n",
    "    labels = hits.id.values.tolist()\n",
    "    if not labels:\n",
    "        raise ValueError(\n",
    "            f'No records found in database matching HMM: {hmm}'\n",
    "            )\n",
    "    hit_labels[hmm] = labelparser.parse_from_list(labels)\n",
    "    hit_labels[hmm][\"hmm\"] = hmm\n",
    "\n",
    "\n",
    "\n",
    "# Create single dataframe with new column corresponding to HMM and all hits\n",
    "all_hit_labels = pd.concat(hit_labels.values()).groupby(\"contig\").filter(lambda x : len(x) >= n_hmms).sort_values([\"contig\", \"gene_pos\"])  # remove contigs with less hits than the number of hmms in synteny structure\n",
    "all_hit_labels[\"gene_pos_diff\"] = all_hit_labels.gene_pos.diff()\n",
    "\n",
    "# Drop sequences hit by more than one hmm\n",
    "all_hit_labels = all_hit_labels.drop_duplicates(subset=all_hit_labels.columns.difference([\"hmm\", \"gene_pos_diff\"]), keep=False)\n",
    "\n",
    "# Reset index\n",
    "all_hit_labels.reset_index(drop=True, inplace=True)\n",
    "\n",
    "# Add HMM codes\n",
    "all_hit_labels[\"hmm_code\"] = all_hit_labels.hmm.apply(lambda hmm: hmm_order_dict[hmm])\n",
    "\n",
    "\n",
    "# Strand in integers\n",
    "all_hit_labels[\"strand\"] = all_hit_labels.strand.apply(lambda strand: -1 if strand == \"neg\" else 1)\n",
    "\n",
    "contig_names = all_hit_labels.contig.unique()"
   ]
  },
  {
   "cell_type": "code",
   "execution_count": 8,
   "metadata": {},
   "outputs": [],
   "source": [
    "hmm_order_pattern = [\"TIGR00899.1\"]  #, \"TIGR00171.1\"]\n",
    "hmm_code_order_pattern = [0]# , 1] # \"TIGR00899.1\", \"TIGR00171.1\" # list(hmm_order_dict.values())\n",
    "strand_order_pattern = [-1] #, 0] #,0, 0]\n",
    "distance_order_pattern = [100] #, 0, 1]\n",
    "\n",
    "\n",
    "def contains_hmm_pattern(data: pd.Series) -> int:\n",
    "    return 1 if data.values.tolist() == hmm_code_order_pattern else 0\n",
    "\n",
    "def contains_distance_pattern(data: pd.Series) -> int:\n",
    "    return 1 if all(\n",
    "        [   (data_dist <= pattern_dist and data_dist > 0)\n",
    "            for data_dist, pattern_dist in zip(data.values.tolist()[1:], distance_order_pattern)\n",
    "            ]\n",
    "        ) else 0\n",
    "\n",
    "def contains_strand_pattern(data: pd.Series) -> int:\n",
    "    strand_comparisons = []\n",
    "    for data_strand, pattern_strand in zip(data.values, strand_order_pattern):\n",
    "        if pattern_strand != 0:\n",
    "            strand_comparisons.append(data_strand == pattern_strand)\n",
    "        else:\n",
    "            strand_comparisons.append(True)\n",
    "    return 1 if all(strand_comparisons) == True else 0"
   ]
  },
  {
   "cell_type": "code",
   "execution_count": 9,
   "metadata": {},
   "outputs": [],
   "source": [
    "from pynteny.filter import LabelParser\n",
    "from pynteny.filter import SyntenyPatternFilters\n",
    "\n",
    "filters = SyntenyPatternFilters(\"<TIGR00899.1\")\n",
    "\n",
    "# hmm_order = [\"TIGR00171.1\", \"TIGR00170.1\"] #[\"TIGR00899.1\", \"TIGR00171.1\", \"TIGR00170.1\", \"TIGR00973.1\"]\n",
    "# hmm_order_dict = dict(zip(hmm_order, [1, 2]))\n",
    "\n",
    "output_file = \"results.tsv\"\n",
    "\n",
    "n_hmms = len(hmm_order_pattern)\n",
    "\n",
    "output_lines = []\n",
    "for contig in contig_names:\n",
    "\n",
    "    synteny_hits = []\n",
    "    contig_hits = all_hit_labels[all_hit_labels.contig == contig].reset_index(drop=True)\n",
    "\n",
    "    if set(hmm_order_pattern) == set(contig_hits.hmm.unique()):\n",
    "        \n",
    "        # hmm_match = contig_hits.hmm_code.rolling(window=n_hmms).apply(contains_hmm_pattern)\n",
    "        hmm_match = contig_hits.hmm_code.rolling(window=n_hmms).apply(filters.contains_hmm_pattern)\n",
    "        strand_match = contig_hits.strand.rolling(window=n_hmms).apply(contains_strand_pattern)\n",
    "        \n",
    "        if n_hmms > 1:\n",
    "            distance_match = contig_hits.gene_pos_diff.rolling(\n",
    "                window=n_hmms).apply(contains_distance_pattern)\n",
    "            matched_rows = contig_hits[\n",
    "                (hmm_match == 1) &\n",
    "                (strand_match == 1) &\n",
    "                (distance_match == 1)\n",
    "            ]\n",
    "        else:\n",
    "            matched_rows = contig_hits[\n",
    "                (hmm_match == 1) &\n",
    "                (strand_match == 1)\n",
    "            ]\n",
    "        \n",
    "        for i, row in matched_rows.iterrows():\n",
    "            matched_hits = contig_hits.iloc[i - (n_hmms - 1): i + 1, :]\n",
    "            for label, hmm in zip(matched_hits.full.values, matched_hits.hmm):\n",
    "                parsed_label = LabelParser.parse(label)\n",
    "                synteny_hits.append(\n",
    "                     (\n",
    "                        f\"{parsed_label['contig']}\\t{parsed_label['gene_id']}\\t\"\n",
    "                        f\"{parsed_label['gene_pos']}\\t{parsed_label['locus_pos']}\\t\"\n",
    "                        f\"{parsed_label['strand']}\\t{hmm}\\t{parsed_label['full']}\\n\"\n",
    "                        )\n",
    "                )\n",
    "    output_lines.extend(synteny_hits)\n",
    "\n",
    "\n",
    "\n",
    "with open(output_file, \"w\") as outfile:\n",
    "    outfile.write(\"contig\\tgene_id\\tgene_number\\tlocus\\tstrand\\tHMM\\tfull_label\\n\")\n",
    "    outfile.writelines(output_lines)"
   ]
  },
  {
   "cell_type": "code",
   "execution_count": 16,
   "metadata": {},
   "outputs": [
    {
     "data": {
      "text/html": [
       "<div>\n",
       "<style scoped>\n",
       "    .dataframe tbody tr th:only-of-type {\n",
       "        vertical-align: middle;\n",
       "    }\n",
       "\n",
       "    .dataframe tbody tr th {\n",
       "        vertical-align: top;\n",
       "    }\n",
       "\n",
       "    .dataframe thead th {\n",
       "        text-align: right;\n",
       "    }\n",
       "</style>\n",
       "<table border=\"1\" class=\"dataframe\">\n",
       "  <thead>\n",
       "    <tr style=\"text-align: right;\">\n",
       "      <th></th>\n",
       "      <th>contig</th>\n",
       "      <th>gene_id</th>\n",
       "      <th>gene_number</th>\n",
       "      <th>locus</th>\n",
       "      <th>strand</th>\n",
       "      <th>HMM</th>\n",
       "      <th>full_label</th>\n",
       "    </tr>\n",
       "  </thead>\n",
       "  <tbody>\n",
       "    <tr>\n",
       "      <th>0</th>\n",
       "      <td>AE000512.1</td>\n",
       "      <td>AE000512.1_1009</td>\n",
       "      <td>1009</td>\n",
       "      <td>(1040376, 1041644)</td>\n",
       "      <td>neg</td>\n",
       "      <td>TIGR00899.1</td>\n",
       "      <td>AE000512.1_1009__AE000512.1_1009_1040376_10416...</td>\n",
       "    </tr>\n",
       "    <tr>\n",
       "      <th>1</th>\n",
       "      <td>AE000782.1</td>\n",
       "      <td>AE000782.1_2160</td>\n",
       "      <td>2160</td>\n",
       "      <td>(1894712, 1895125)</td>\n",
       "      <td>neg</td>\n",
       "      <td>TIGR00899.1</td>\n",
       "      <td>AE000782.1_2160__AE000782.1_2160_1894712_18951...</td>\n",
       "    </tr>\n",
       "    <tr>\n",
       "      <th>2</th>\n",
       "      <td>AE009441.1</td>\n",
       "      <td>AE009441.1_1776</td>\n",
       "      <td>1776</td>\n",
       "      <td>(1526457, 1527542)</td>\n",
       "      <td>neg</td>\n",
       "      <td>TIGR00899.1</td>\n",
       "      <td>AE009441.1_1776__AE009441.1_1776_1526457_15275...</td>\n",
       "    </tr>\n",
       "    <tr>\n",
       "      <th>3</th>\n",
       "      <td>AE009950.1</td>\n",
       "      <td>AE009950.1_457</td>\n",
       "      <td>457</td>\n",
       "      <td>(459482, 460813)</td>\n",
       "      <td>neg</td>\n",
       "      <td>TIGR00899.1</td>\n",
       "      <td>AE009950.1_457__AE009950.1_457_459482_460813_neg</td>\n",
       "    </tr>\n",
       "    <tr>\n",
       "      <th>4</th>\n",
       "      <td>AE009950.1</td>\n",
       "      <td>AE009950.1_847</td>\n",
       "      <td>847</td>\n",
       "      <td>(805426, 806532)</td>\n",
       "      <td>neg</td>\n",
       "      <td>TIGR00899.1</td>\n",
       "      <td>AE009950.1_847__AE009950.1_847_805426_806532_neg</td>\n",
       "    </tr>\n",
       "  </tbody>\n",
       "</table>\n",
       "</div>"
      ],
      "text/plain": [
       "       contig          gene_id  gene_number               locus strand  \\\n",
       "0  AE000512.1  AE000512.1_1009         1009  (1040376, 1041644)    neg   \n",
       "1  AE000782.1  AE000782.1_2160         2160  (1894712, 1895125)    neg   \n",
       "2  AE009441.1  AE009441.1_1776         1776  (1526457, 1527542)    neg   \n",
       "3  AE009950.1   AE009950.1_457          457    (459482, 460813)    neg   \n",
       "4  AE009950.1   AE009950.1_847          847    (805426, 806532)    neg   \n",
       "\n",
       "           HMM                                         full_label  \n",
       "0  TIGR00899.1  AE000512.1_1009__AE000512.1_1009_1040376_10416...  \n",
       "1  TIGR00899.1  AE000782.1_2160__AE000782.1_2160_1894712_18951...  \n",
       "2  TIGR00899.1  AE009441.1_1776__AE009441.1_1776_1526457_15275...  \n",
       "3  TIGR00899.1   AE009950.1_457__AE009950.1_457_459482_460813_neg  \n",
       "4  TIGR00899.1   AE009950.1_847__AE009950.1_847_805426_806532_neg  "
      ]
     },
     "execution_count": 16,
     "metadata": {},
     "output_type": "execute_result"
    }
   ],
   "source": [
    "import pandas as pd\n",
    "\n",
    "\n",
    "df = pd.read_csv(\"/home/robaina/Documents/Pynteny/results_filter.tsv\", sep=\"\\t\")\n",
    "df.head()"
   ]
  },
  {
   "cell_type": "code",
   "execution_count": 17,
   "metadata": {},
   "outputs": [
    {
     "data": {
      "text/plain": [
       "array(['AE000512.1_1009__AE000512.1_1009_1040376_1041644_neg',\n",
       "       'AE000782.1_2160__AE000782.1_2160_1894712_1895125_neg',\n",
       "       'AE009441.1_1776__AE009441.1_1776_1526457_1527542_neg', ...,\n",
       "       'MSCJ01000002.1_209__MSCJ01000002.1_209_234052_235251_neg',\n",
       "       'WAHT01000006.1_180__WAHT01000006.1_180_201236_202423_neg',\n",
       "       'WAHT01000008.1_280__WAHT01000008.1_280_295995_297383_neg'],\n",
       "      dtype=object)"
      ]
     },
     "execution_count": 17,
     "metadata": {},
     "output_type": "execute_result"
    }
   ],
   "source": [
    "hmm = \"TIGR00899.1\"\n",
    "df[df.HMM == hmm].full_label.values"
   ]
  },
  {
   "cell_type": "code",
   "execution_count": 3,
   "metadata": {},
   "outputs": [
    {
     "name": "stdout",
     "output_type": "stream",
     "text": [
      ">CP000435.1_1__CP000435.1_1_174_1331_pos\n"
     ]
    }
   ],
   "source": [
    "record_name = \"CP000435.1_1 # 174 # 1331 # 1 # ID=1_1;partial=00;start_type=ATG;rbs_motif=None;rbs_spacer=None;gc_cont=0.567\"\n",
    "\n",
    "\n",
    "name_list = record_name.split(\" \")\n",
    "contig = \"_\".join(name_list[0].split(\"_\")[:-1])\n",
    "gene_number = name_list[0].split(\"_\")[-1]\n",
    "start, end = name_list[2], name_list[4]\n",
    "strand = \"pos\" if name_list[6] == \"1\" else \"neg\"\n",
    "\n",
    "\n",
    "header = f\">{contig}_{gene_number}__{contig}_{gene_number}_{start}_{end}_{strand}\"\n",
    "\n",
    "print(header)"
   ]
  },
  {
   "cell_type": "code",
   "execution_count": 1,
   "metadata": {},
   "outputs": [],
   "source": [
    "import os \n",
    "\n",
    "from pynteny.utils import fullPathListDir\n",
    "\n",
    "for file in fullPathListDir(\"/home/robaina/Databases/MarRef_1.7/prodigal\"):\n",
    "    if '.gbk' in file:\n",
    "        os.remove(file)"
   ]
  },
  {
   "cell_type": "code",
   "execution_count": 4,
   "metadata": {},
   "outputs": [],
   "source": [
    "from pynteny.preprocessing import parseProdigalOutput, mergeFASTAs\n",
    "\n",
    "\n",
    "# mergeFASTAs(\n",
    "#     \"/home/robaina/Databases/MarRef_1.7/prodigal\",\n",
    "#     output_fasta=\"/home/robaina/Databases/MarRef_1.7/marref_prodigal.faa\"\n",
    "# )\n",
    "\n",
    "parseProdigalOutput(\n",
    "    prodigal_faa=\"/home/robaina/Databases/MarRef_1.7/marref_prodigal.faa\",\n",
    "    output_file=\"/home/robaina/Databases/MarRef_1.7/marref_prodigal_longlabels.faa\"\n",
    ")"
   ]
  },
  {
   "cell_type": "code",
   "execution_count": 1,
   "metadata": {},
   "outputs": [],
   "source": [
    "from Bio import SeqIO, SeqRecord\n",
    "\n",
    "\n",
    "file = \"/home/robaina/Documents/Pynteny/MG1655.gb\"\n",
    "file = \"/home/robaina/Databases/MarRef_1.7/prodigal/marref.gbk\"\n",
    "file = \"/home/robaina/Documents/Pynteny/BACL149.gbk\"\n",
    "gbk_contigs = list(SeqIO.parse(file, 'genbank'))"
   ]
  },
  {
   "cell_type": "code",
   "execution_count": 2,
   "metadata": {},
   "outputs": [
    {
     "data": {
      "text/plain": [
       "[SeqRecord(seq=Seq('ATCAACACCCAGTTTTTTCCAAGGTAAGTTTTCTGGATCGCTTTCGTGAAAACA...GCC'), id='1', name='1', description='Genus species strain strain', dbxrefs=[])]"
      ]
     },
     "execution_count": 2,
     "metadata": {},
     "output_type": "execute_result"
    }
   ],
   "source": [
    "gbk_contig = gbk_contigs[0]"
   ]
  },
  {
   "cell_type": "code",
   "execution_count": 1,
   "metadata": {},
   "outputs": [],
   "source": [
    "from pynteny.preprocessing import assignGeneLocationToRecords\n",
    "\n",
    "\n",
    "\n",
    "gbk_file = \"/home/robaina/Documents/Pynteny/MG1655.gb\"\n",
    "\n",
    "assignGeneLocationToRecords(\n",
    "    gbk_file=gbk_file,\n",
    "    output_fasta=None,\n",
    "    nucleotide=False\n",
    ")"
   ]
  },
  {
   "cell_type": "code",
   "execution_count": null,
   "metadata": {},
   "outputs": [],
   "source": [
    "from pynteny.wrappers import runProdigal\n",
    "\n",
    "# Run prodigal on assembly to obtain gene translation and positional info\n",
    "\n",
    "runProdigal(\n",
    "    input_file=\"genome_assembly.fasta\",\n",
    "    output_prefix=None,\n",
    "    output_dir=None\n",
    ")"
   ]
  },
  {
   "cell_type": "code",
   "execution_count": 2,
   "metadata": {},
   "outputs": [],
   "source": [
    "# In case of split genomes, each part comes in a different gbk file,this would happen with differnt contigs as well.\n",
    "# So, basically, I only need the gbk file, which can be obtanined from prokka with the genome assembly in fasta format.\n",
    "# Genes appear to be sorted by loci in gbk files\n",
    "# Actually, the departing point for a hmmer search with synteny info would be a fasta file containing reference sequences...\n",
    "# so, we would need to obtain these sequences from the gbk file or map them somehow?\n",
    "# Perhaps better to store positional info in a dict, this way no need to alter contig/sequence names\n",
    "\n",
    "from Bio import SeqIO, SeqRecord\n",
    "\n",
    "\n",
    "file = \"/home/robaina/Documents/Pynteny/MG1655.gb\"\n",
    "\n",
    "\n",
    "gbk_contigs = list(SeqIO.parse(gbk_file, 'genbank'))\n",
    "\n",
    "with open(\"LongLabels.fasta\", \"w\") as outfile:\n",
    "\n",
    "    for gbk_contig in gbk_contigs:\n",
    "        \n",
    "        gene_counter = 0\n",
    "        for feature in gbk_contig.features:\n",
    "\n",
    "            if \"cds\" in feature.type.lower():\n",
    "                \n",
    "                name = feature.qualifiers[\"locus_tag\"][0].replace('_', '.')\n",
    "                start, end, strand = str(feature.location.start), str(feature.location.end), feature.location.strand\n",
    "                start = start.replace(\">\", \"\").replace(\"<\", \"\")\n",
    "                end = end.replace(\">\", \"\").replace(\"<\", \"\")\n",
    "                strand_sense = \"neg\" if strand == -1 else \"pos\"\n",
    "\n",
    "                header = f\">{name}__{gbk_contig.name.replace('_', '')}_{gene_counter}_{start}_{end}_{strand_sense}\\n\"\n",
    "                if \"translation\" in feature.qualifiers:\n",
    "                    translation = feature.qualifiers[\"translation\"][0]\n",
    "\n",
    "                    header = f\">{name}__{gbk_contig.name.replace('_', '')}_{gene_counter}_{start}_{end}_{strand_sense}\\n\"\n",
    "                    outfile.write(header)\n",
    "                    outfile.write(translation + \"\\n\")\n",
    "\n",
    "                    gene_counter += 1"
   ]
  }
 ],
 "metadata": {
  "interpreter": {
   "hash": "367a058ebb24ea2c2bb1633bf810ec6a1a05f59e065f27f721ea93103e797079"
  },
  "kernelspec": {
   "display_name": "Python 3.9.6 ('traits')",
   "language": "python",
   "name": "python3"
  },
  "language_info": {
   "codemirror_mode": {
    "name": "ipython",
    "version": 3
   },
   "file_extension": ".py",
   "mimetype": "text/x-python",
   "name": "python",
   "nbconvert_exporter": "python",
   "pygments_lexer": "ipython3",
   "version": "3.9.6"
  },
  "orig_nbformat": 4
 },
 "nbformat": 4,
 "nbformat_minor": 2
}
