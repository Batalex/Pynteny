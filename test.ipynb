{
 "cells": [
  {
   "cell_type": "code",
   "execution_count": null,
   "metadata": {},
   "outputs": [],
   "source": [
    "def extractSeqPositionalInfo(gbk_file: str) -> str:\n",
    "    \"\"\"\n",
    "    Extract contig and locus position from gbk for given sequence\n",
    "    \"\"\"\n",
    "    return None"
   ]
  },
  {
   "cell_type": "code",
   "execution_count": 1,
   "metadata": {},
   "outputs": [],
   "source": [
    "from Bio import SeqIO, SeqRecord\n",
    "\n",
    "\n",
    "file = \"/home/robaina/Documents/Pynteny/MG1655.gb\"\n",
    "gbk_contigs = list(SeqIO.parse(file, 'genbank'))"
   ]
  },
  {
   "cell_type": "code",
   "execution_count": 1,
   "metadata": {},
   "outputs": [],
   "source": [
    "from pynteny.preprocessing import assignGeneLocationToRecords\n",
    "\n",
    "\n",
    "\n",
    "gbk_file = \"/home/robaina/Documents/Pynteny/MG1655.gb\"\n",
    "\n",
    "assignGeneLocationToRecords(\n",
    "    gbk_file=gbk_file,\n",
    "    output_fasta=None,\n",
    "    nucleotide=False\n",
    ")"
   ]
  },
  {
   "cell_type": "code",
   "execution_count": null,
   "metadata": {},
   "outputs": [],
   "source": [
    "from pynteny.wrappers import runProdigal\n",
    "\n",
    "# Run prodigal on assembly to obtain gene translation and positional info\n",
    "\n",
    "runProdigal(\n",
    "    input_file=\"genome_assembly.fasta\",\n",
    "    output_prefix=None,\n",
    "    output_dir=None\n",
    ")"
   ]
  },
  {
   "cell_type": "code",
   "execution_count": 2,
   "metadata": {},
   "outputs": [],
   "source": [
    "# In case of split genomes, each part comes in a different gbk file,this would happen with differnt contigs as well.\n",
    "# So, basically, I only need the gbk file, which can be obtanined from prokka with the genome assembly in fasta format.\n",
    "# Genes appear to be sorted by loci in gbk files\n",
    "# Actually, the departing point for a hmmer search with synteny info would be a fasta file containing reference sequences...\n",
    "# so, we would need to obtain these sequences from the gbk file or map them somehow?\n",
    "# Perhaps better to store positional info in a dict, this way no need to alter contig/sequence names\n",
    "\n",
    "from Bio import SeqIO, SeqRecord\n",
    "\n",
    "\n",
    "file = \"/home/robaina/Documents/Pynteny/MG1655.gb\"\n",
    "\n",
    "\n",
    "gbk_contigs = list(SeqIO.parse(gbk_file, 'genbank'))\n",
    "\n",
    "with open(\"LongLabels.fasta\", \"w\") as outfile:\n",
    "\n",
    "    for gbk_contig in gbk_contigs:\n",
    "        \n",
    "        gene_counter = 0\n",
    "        for feature in gbk_contig.features:\n",
    "\n",
    "            if \"cds\" in feature.type.lower():\n",
    "                \n",
    "                name = feature.qualifiers[\"locus_tag\"][0].replace('_', '.')\n",
    "                start, end, strand = str(feature.location.start), str(feature.location.end), feature.location.strand\n",
    "                start = start.replace(\">\", \"\").replace(\"<\", \"\")\n",
    "                end = end.replace(\">\", \"\").replace(\"<\", \"\")\n",
    "                strand_sense = \"neg\" if strand == -1 else \"pos\"\n",
    "\n",
    "                header = f\">{name}__{gbk_contig.name.replace('_', '')}_{gene_counter}_{start}_{end}_{strand_sense}\\n\"\n",
    "                if \"translation\" in feature.qualifiers:\n",
    "                    translation = feature.qualifiers[\"translation\"][0]\n",
    "\n",
    "                    header = f\">{name}__{gbk_contig.name.replace('_', '')}_{gene_counter}_{start}_{end}_{strand_sense}\\n\"\n",
    "                    outfile.write(header)\n",
    "                    outfile.write(translation + \"\\n\")\n",
    "\n",
    "                    gene_counter += 1"
   ]
  }
 ],
 "metadata": {
  "interpreter": {
   "hash": "367a058ebb24ea2c2bb1633bf810ec6a1a05f59e065f27f721ea93103e797079"
  },
  "kernelspec": {
   "display_name": "Python 3.9.6 ('traits')",
   "language": "python",
   "name": "python3"
  },
  "language_info": {
   "codemirror_mode": {
    "name": "ipython",
    "version": 3
   },
   "file_extension": ".py",
   "mimetype": "text/x-python",
   "name": "python",
   "nbconvert_exporter": "python",
   "pygments_lexer": "ipython3",
   "version": "3.9.6"
  },
  "orig_nbformat": 4
 },
 "nbformat": 4,
 "nbformat_minor": 2
}
